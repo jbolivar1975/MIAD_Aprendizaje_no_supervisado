{
  "cells": [
    {
      "cell_type": "markdown",
      "metadata": {
        "id": "JpgMh2Z-V-WH"
      },
      "source": [
        "<div >\n",
        "<img src = \"figs/ans_banner_1920x200.png\" />\n",
        "</div>"
      ],
      "id": "JpgMh2Z-V-WH"
    },
    {
      "cell_type": "markdown",
      "metadata": {
        "id": "zzk7R2TnV-WL"
      },
      "source": [
        "# Caso-taller:  Recomendando Música"
      ],
      "id": "zzk7R2TnV-WL"
    },
    {
      "cell_type": "markdown",
      "metadata": {
        "id": "Tj6XWzLAV-WM"
      },
      "source": [
        "El objetivo de este caso-taller es construir un sistema de recomendación de Música utilizando los datos de [Last.fm](https://www.last.fm/) provistos  abiertamente por [grouplens](https://grouplens.org/about/what-is-grouplens/) para: **\"avanzar la teoría y la práctica de la computación social mediante la construcción y la comprensión de sistemas *(de recomendación)* utilizados por personas reales\".**\n",
        "\n",
        "Los datos contienen información sobre artistas, usuarios, y las veces que estos escucharon sus canciones. Las bases se encuentran en los `Archivos de Laboratorio` en la carpeta `data`, allí también está disponible un archivo [README](data/readme.txt) que contiene más información sobre las bases.\n"
      ],
      "id": "Tj6XWzLAV-WM"
    },
    {
      "cell_type": "markdown",
      "metadata": {
        "id": "h4arrbr3V-WN"
      },
      "source": [
        "## Instrucciones generales\n",
        "\n",
        "1. Para desarrollar el *cuaderno*, primero debe descargarlo.\n",
        "\n",
        "2. Para responder cada inciso deberá utilizar el espacio debidamente especificado.\n",
        "\n",
        "3. La actividad será calificada sólo si sube el *cuaderno* de jupyter notebook con extensión `.ipynb` en la actividad designada como \"entrega calificada por el personal\".\n",
        "\n",
        "4. El archivo entregado debe poder ser ejecutado localmente por el  tutor. Sea cuidadoso con la especificación de la ubicación de los archivos de soporte, guarde la carpeta de datos en el mismo `path` de su cuaderno, por ejemplo: `data`."
      ],
      "id": "h4arrbr3V-WN"
    },
    {
      "cell_type": "markdown",
      "metadata": {
        "id": "e16dH_96V-WP"
      },
      "source": [
        "## Desarrollo\n"
      ],
      "id": "e16dH_96V-WP"
    },
    {
      "cell_type": "markdown",
      "metadata": {
        "id": "_sib3EyYV-WQ"
      },
      "source": [
        "### 1. Carga de datos\n",
        "\n",
        "En la carpeta `data` se encuentran los archivos:\n",
        "\n",
        "   - `artists.dat`  que contienen el identificador del artista (`id`), nombre (`name`), link a la página del artista en last.fm (`url`), y link a la imagen del usuario (`pictureURL`), vale aclarar que varios de estos links están rotos.\n",
        "   - `user_artists.dat`  que contiene identificador del usuario (`userID`), nombre del artista que escuchó (`artistID`), y las veces que los escuchó (`weight`).\n",
        "\n",
        "Cargue estos datos en su *cuaderno*:\n",
        "\n",
        "   1. Para la base de artistas seleccione las columnas de identificador de artista (`id`) y nombre (`name`). Renombre estas columnas para poder hacer la unión con la base `user_artists.dat`.\n",
        "   2. Para la base de usuarios y artistas, renombre las columnas de forma tal que se mantenga la consistencia para unir con la base anterior, y renombre la columna `weight` a `nro_reproducciones`.\n",
        "   3. Una estas bases.\n",
        "   "
      ],
      "id": "_sib3EyYV-WQ"
    },
    {
      "cell_type": "code",
      "execution_count": 3,
      "metadata": {
        "colab": {
          "base_uri": "https://localhost:8080/",
          "height": 1000
        },
        "id": "NaGIbVP9V-WS",
        "outputId": "a073a940-21ac-46e7-b462-3bd76125b3ef"
      },
      "outputs": [
        {
          "output_type": "display_data",
          "data": {
            "text/plain": [
              "   artistID         artistName                                         url  \\\n",
              "0         1       MALICE MIZER       http://www.last.fm/music/MALICE+MIZER   \n",
              "1         2    Diary of Dreams    http://www.last.fm/music/Diary+of+Dreams   \n",
              "2         3  Carpathian Forest  http://www.last.fm/music/Carpathian+Forest   \n",
              "3         4       Moi dix Mois       http://www.last.fm/music/Moi+dix+Mois   \n",
              "4         5        Bella Morte        http://www.last.fm/music/Bella+Morte   \n",
              "\n",
              "                                          pictureURL  \n",
              "0    http://userserve-ak.last.fm/serve/252/10808.jpg  \n",
              "1  http://userserve-ak.last.fm/serve/252/3052066.jpg  \n",
              "2  http://userserve-ak.last.fm/serve/252/40222717...  \n",
              "3  http://userserve-ak.last.fm/serve/252/54697835...  \n",
              "4  http://userserve-ak.last.fm/serve/252/14789013...  "
            ],
            "text/html": [
              "\n",
              "  <div id=\"df-fa651342-ee88-413c-8be7-a6b50a4d2ded\" class=\"colab-df-container\">\n",
              "    <div>\n",
              "<style scoped>\n",
              "    .dataframe tbody tr th:only-of-type {\n",
              "        vertical-align: middle;\n",
              "    }\n",
              "\n",
              "    .dataframe tbody tr th {\n",
              "        vertical-align: top;\n",
              "    }\n",
              "\n",
              "    .dataframe thead th {\n",
              "        text-align: right;\n",
              "    }\n",
              "</style>\n",
              "<table border=\"1\" class=\"dataframe\">\n",
              "  <thead>\n",
              "    <tr style=\"text-align: right;\">\n",
              "      <th></th>\n",
              "      <th>artistID</th>\n",
              "      <th>artistName</th>\n",
              "      <th>url</th>\n",
              "      <th>pictureURL</th>\n",
              "    </tr>\n",
              "  </thead>\n",
              "  <tbody>\n",
              "    <tr>\n",
              "      <th>0</th>\n",
              "      <td>1</td>\n",
              "      <td>MALICE MIZER</td>\n",
              "      <td>http://www.last.fm/music/MALICE+MIZER</td>\n",
              "      <td>http://userserve-ak.last.fm/serve/252/10808.jpg</td>\n",
              "    </tr>\n",
              "    <tr>\n",
              "      <th>1</th>\n",
              "      <td>2</td>\n",
              "      <td>Diary of Dreams</td>\n",
              "      <td>http://www.last.fm/music/Diary+of+Dreams</td>\n",
              "      <td>http://userserve-ak.last.fm/serve/252/3052066.jpg</td>\n",
              "    </tr>\n",
              "    <tr>\n",
              "      <th>2</th>\n",
              "      <td>3</td>\n",
              "      <td>Carpathian Forest</td>\n",
              "      <td>http://www.last.fm/music/Carpathian+Forest</td>\n",
              "      <td>http://userserve-ak.last.fm/serve/252/40222717...</td>\n",
              "    </tr>\n",
              "    <tr>\n",
              "      <th>3</th>\n",
              "      <td>4</td>\n",
              "      <td>Moi dix Mois</td>\n",
              "      <td>http://www.last.fm/music/Moi+dix+Mois</td>\n",
              "      <td>http://userserve-ak.last.fm/serve/252/54697835...</td>\n",
              "    </tr>\n",
              "    <tr>\n",
              "      <th>4</th>\n",
              "      <td>5</td>\n",
              "      <td>Bella Morte</td>\n",
              "      <td>http://www.last.fm/music/Bella+Morte</td>\n",
              "      <td>http://userserve-ak.last.fm/serve/252/14789013...</td>\n",
              "    </tr>\n",
              "  </tbody>\n",
              "</table>\n",
              "</div>\n",
              "    <div class=\"colab-df-buttons\">\n",
              "\n",
              "  <div class=\"colab-df-container\">\n",
              "    <button class=\"colab-df-convert\" onclick=\"convertToInteractive('df-fa651342-ee88-413c-8be7-a6b50a4d2ded')\"\n",
              "            title=\"Convert this dataframe to an interactive table.\"\n",
              "            style=\"display:none;\">\n",
              "\n",
              "  <svg xmlns=\"http://www.w3.org/2000/svg\" height=\"24px\" viewBox=\"0 -960 960 960\">\n",
              "    <path d=\"M120-120v-720h720v720H120Zm60-500h600v-160H180v160Zm220 220h160v-160H400v160Zm0 220h160v-160H400v160ZM180-400h160v-160H180v160Zm440 0h160v-160H620v160ZM180-180h160v-160H180v160Zm440 0h160v-160H620v160Z\"/>\n",
              "  </svg>\n",
              "    </button>\n",
              "\n",
              "  <style>\n",
              "    .colab-df-container {\n",
              "      display:flex;\n",
              "      gap: 12px;\n",
              "    }\n",
              "\n",
              "    .colab-df-convert {\n",
              "      background-color: #E8F0FE;\n",
              "      border: none;\n",
              "      border-radius: 50%;\n",
              "      cursor: pointer;\n",
              "      display: none;\n",
              "      fill: #1967D2;\n",
              "      height: 32px;\n",
              "      padding: 0 0 0 0;\n",
              "      width: 32px;\n",
              "    }\n",
              "\n",
              "    .colab-df-convert:hover {\n",
              "      background-color: #E2EBFA;\n",
              "      box-shadow: 0px 1px 2px rgba(60, 64, 67, 0.3), 0px 1px 3px 1px rgba(60, 64, 67, 0.15);\n",
              "      fill: #174EA6;\n",
              "    }\n",
              "\n",
              "    .colab-df-buttons div {\n",
              "      margin-bottom: 4px;\n",
              "    }\n",
              "\n",
              "    [theme=dark] .colab-df-convert {\n",
              "      background-color: #3B4455;\n",
              "      fill: #D2E3FC;\n",
              "    }\n",
              "\n",
              "    [theme=dark] .colab-df-convert:hover {\n",
              "      background-color: #434B5C;\n",
              "      box-shadow: 0px 1px 3px 1px rgba(0, 0, 0, 0.15);\n",
              "      filter: drop-shadow(0px 1px 2px rgba(0, 0, 0, 0.3));\n",
              "      fill: #FFFFFF;\n",
              "    }\n",
              "  </style>\n",
              "\n",
              "    <script>\n",
              "      const buttonEl =\n",
              "        document.querySelector('#df-fa651342-ee88-413c-8be7-a6b50a4d2ded button.colab-df-convert');\n",
              "      buttonEl.style.display =\n",
              "        google.colab.kernel.accessAllowed ? 'block' : 'none';\n",
              "\n",
              "      async function convertToInteractive(key) {\n",
              "        const element = document.querySelector('#df-fa651342-ee88-413c-8be7-a6b50a4d2ded');\n",
              "        const dataTable =\n",
              "          await google.colab.kernel.invokeFunction('convertToInteractive',\n",
              "                                                    [key], {});\n",
              "        if (!dataTable) return;\n",
              "\n",
              "        const docLinkHtml = 'Like what you see? Visit the ' +\n",
              "          '<a target=\"_blank\" href=https://colab.research.google.com/notebooks/data_table.ipynb>data table notebook</a>'\n",
              "          + ' to learn more about interactive tables.';\n",
              "        element.innerHTML = '';\n",
              "        dataTable['output_type'] = 'display_data';\n",
              "        await google.colab.output.renderOutput(dataTable, element);\n",
              "        const docLink = document.createElement('div');\n",
              "        docLink.innerHTML = docLinkHtml;\n",
              "        element.appendChild(docLink);\n",
              "      }\n",
              "    </script>\n",
              "  </div>\n",
              "\n",
              "\n",
              "    <div id=\"df-bb476a0d-1a8f-4973-9f23-b177b8021ca8\">\n",
              "      <button class=\"colab-df-quickchart\" onclick=\"quickchart('df-bb476a0d-1a8f-4973-9f23-b177b8021ca8')\"\n",
              "                title=\"Suggest charts\"\n",
              "                style=\"display:none;\">\n",
              "\n",
              "<svg xmlns=\"http://www.w3.org/2000/svg\" height=\"24px\"viewBox=\"0 0 24 24\"\n",
              "     width=\"24px\">\n",
              "    <g>\n",
              "        <path d=\"M19 3H5c-1.1 0-2 .9-2 2v14c0 1.1.9 2 2 2h14c1.1 0 2-.9 2-2V5c0-1.1-.9-2-2-2zM9 17H7v-7h2v7zm4 0h-2V7h2v10zm4 0h-2v-4h2v4z\"/>\n",
              "    </g>\n",
              "</svg>\n",
              "      </button>\n",
              "\n",
              "<style>\n",
              "  .colab-df-quickchart {\n",
              "      --bg-color: #E8F0FE;\n",
              "      --fill-color: #1967D2;\n",
              "      --hover-bg-color: #E2EBFA;\n",
              "      --hover-fill-color: #174EA6;\n",
              "      --disabled-fill-color: #AAA;\n",
              "      --disabled-bg-color: #DDD;\n",
              "  }\n",
              "\n",
              "  [theme=dark] .colab-df-quickchart {\n",
              "      --bg-color: #3B4455;\n",
              "      --fill-color: #D2E3FC;\n",
              "      --hover-bg-color: #434B5C;\n",
              "      --hover-fill-color: #FFFFFF;\n",
              "      --disabled-bg-color: #3B4455;\n",
              "      --disabled-fill-color: #666;\n",
              "  }\n",
              "\n",
              "  .colab-df-quickchart {\n",
              "    background-color: var(--bg-color);\n",
              "    border: none;\n",
              "    border-radius: 50%;\n",
              "    cursor: pointer;\n",
              "    display: none;\n",
              "    fill: var(--fill-color);\n",
              "    height: 32px;\n",
              "    padding: 0;\n",
              "    width: 32px;\n",
              "  }\n",
              "\n",
              "  .colab-df-quickchart:hover {\n",
              "    background-color: var(--hover-bg-color);\n",
              "    box-shadow: 0 1px 2px rgba(60, 64, 67, 0.3), 0 1px 3px 1px rgba(60, 64, 67, 0.15);\n",
              "    fill: var(--button-hover-fill-color);\n",
              "  }\n",
              "\n",
              "  .colab-df-quickchart-complete:disabled,\n",
              "  .colab-df-quickchart-complete:disabled:hover {\n",
              "    background-color: var(--disabled-bg-color);\n",
              "    fill: var(--disabled-fill-color);\n",
              "    box-shadow: none;\n",
              "  }\n",
              "\n",
              "  .colab-df-spinner {\n",
              "    border: 2px solid var(--fill-color);\n",
              "    border-color: transparent;\n",
              "    border-bottom-color: var(--fill-color);\n",
              "    animation:\n",
              "      spin 1s steps(1) infinite;\n",
              "  }\n",
              "\n",
              "  @keyframes spin {\n",
              "    0% {\n",
              "      border-color: transparent;\n",
              "      border-bottom-color: var(--fill-color);\n",
              "      border-left-color: var(--fill-color);\n",
              "    }\n",
              "    20% {\n",
              "      border-color: transparent;\n",
              "      border-left-color: var(--fill-color);\n",
              "      border-top-color: var(--fill-color);\n",
              "    }\n",
              "    30% {\n",
              "      border-color: transparent;\n",
              "      border-left-color: var(--fill-color);\n",
              "      border-top-color: var(--fill-color);\n",
              "      border-right-color: var(--fill-color);\n",
              "    }\n",
              "    40% {\n",
              "      border-color: transparent;\n",
              "      border-right-color: var(--fill-color);\n",
              "      border-top-color: var(--fill-color);\n",
              "    }\n",
              "    60% {\n",
              "      border-color: transparent;\n",
              "      border-right-color: var(--fill-color);\n",
              "    }\n",
              "    80% {\n",
              "      border-color: transparent;\n",
              "      border-right-color: var(--fill-color);\n",
              "      border-bottom-color: var(--fill-color);\n",
              "    }\n",
              "    90% {\n",
              "      border-color: transparent;\n",
              "      border-bottom-color: var(--fill-color);\n",
              "    }\n",
              "  }\n",
              "</style>\n",
              "\n",
              "      <script>\n",
              "        async function quickchart(key) {\n",
              "          const quickchartButtonEl =\n",
              "            document.querySelector('#' + key + ' button');\n",
              "          quickchartButtonEl.disabled = true;  // To prevent multiple clicks.\n",
              "          quickchartButtonEl.classList.add('colab-df-spinner');\n",
              "          try {\n",
              "            const charts = await google.colab.kernel.invokeFunction(\n",
              "                'suggestCharts', [key], {});\n",
              "          } catch (error) {\n",
              "            console.error('Error during call to suggestCharts:', error);\n",
              "          }\n",
              "          quickchartButtonEl.classList.remove('colab-df-spinner');\n",
              "          quickchartButtonEl.classList.add('colab-df-quickchart-complete');\n",
              "        }\n",
              "        (() => {\n",
              "          let quickchartButtonEl =\n",
              "            document.querySelector('#df-bb476a0d-1a8f-4973-9f23-b177b8021ca8 button');\n",
              "          quickchartButtonEl.style.display =\n",
              "            google.colab.kernel.accessAllowed ? 'block' : 'none';\n",
              "        })();\n",
              "      </script>\n",
              "    </div>\n",
              "\n",
              "    </div>\n",
              "  </div>\n"
            ],
            "application/vnd.google.colaboratory.intrinsic+json": {
              "type": "dataframe",
              "summary": "{\n  \"name\": \"display(merged_df\",\n  \"rows\": 5,\n  \"fields\": [\n    {\n      \"column\": \"artistID\",\n      \"properties\": {\n        \"dtype\": \"number\",\n        \"std\": 1,\n        \"min\": 1,\n        \"max\": 5,\n        \"num_unique_values\": 5,\n        \"samples\": [\n          2,\n          5,\n          3\n        ],\n        \"semantic_type\": \"\",\n        \"description\": \"\"\n      }\n    },\n    {\n      \"column\": \"artistName\",\n      \"properties\": {\n        \"dtype\": \"string\",\n        \"num_unique_values\": 5,\n        \"samples\": [\n          \"Diary of Dreams\",\n          \"Bella Morte\",\n          \"Carpathian Forest\"\n        ],\n        \"semantic_type\": \"\",\n        \"description\": \"\"\n      }\n    },\n    {\n      \"column\": \"url\",\n      \"properties\": {\n        \"dtype\": \"string\",\n        \"num_unique_values\": 5,\n        \"samples\": [\n          \"http://www.last.fm/music/Diary+of+Dreams\",\n          \"http://www.last.fm/music/Bella+Morte\",\n          \"http://www.last.fm/music/Carpathian+Forest\"\n        ],\n        \"semantic_type\": \"\",\n        \"description\": \"\"\n      }\n    },\n    {\n      \"column\": \"pictureURL\",\n      \"properties\": {\n        \"dtype\": \"string\",\n        \"num_unique_values\": 5,\n        \"samples\": [\n          \"http://userserve-ak.last.fm/serve/252/3052066.jpg\",\n          \"http://userserve-ak.last.fm/serve/252/14789013.jpg\",\n          \"http://userserve-ak.last.fm/serve/252/40222717.jpg\"\n        ],\n        \"semantic_type\": \"\",\n        \"description\": \"\"\n      }\n    }\n  ]\n}"
            }
          },
          "metadata": {}
        },
        {
          "output_type": "display_data",
          "data": {
            "text/plain": [
              "   userID  artistID  nro_reproducciones\n",
              "0       2        51               13883\n",
              "1       2        52               11690\n",
              "2       2        53               11351\n",
              "3       2        54               10300\n",
              "4       2        55                8983"
            ],
            "text/html": [
              "\n",
              "  <div id=\"df-8ce2a233-88a1-41ea-94eb-18fcbecd9085\" class=\"colab-df-container\">\n",
              "    <div>\n",
              "<style scoped>\n",
              "    .dataframe tbody tr th:only-of-type {\n",
              "        vertical-align: middle;\n",
              "    }\n",
              "\n",
              "    .dataframe tbody tr th {\n",
              "        vertical-align: top;\n",
              "    }\n",
              "\n",
              "    .dataframe thead th {\n",
              "        text-align: right;\n",
              "    }\n",
              "</style>\n",
              "<table border=\"1\" class=\"dataframe\">\n",
              "  <thead>\n",
              "    <tr style=\"text-align: right;\">\n",
              "      <th></th>\n",
              "      <th>userID</th>\n",
              "      <th>artistID</th>\n",
              "      <th>nro_reproducciones</th>\n",
              "    </tr>\n",
              "  </thead>\n",
              "  <tbody>\n",
              "    <tr>\n",
              "      <th>0</th>\n",
              "      <td>2</td>\n",
              "      <td>51</td>\n",
              "      <td>13883</td>\n",
              "    </tr>\n",
              "    <tr>\n",
              "      <th>1</th>\n",
              "      <td>2</td>\n",
              "      <td>52</td>\n",
              "      <td>11690</td>\n",
              "    </tr>\n",
              "    <tr>\n",
              "      <th>2</th>\n",
              "      <td>2</td>\n",
              "      <td>53</td>\n",
              "      <td>11351</td>\n",
              "    </tr>\n",
              "    <tr>\n",
              "      <th>3</th>\n",
              "      <td>2</td>\n",
              "      <td>54</td>\n",
              "      <td>10300</td>\n",
              "    </tr>\n",
              "    <tr>\n",
              "      <th>4</th>\n",
              "      <td>2</td>\n",
              "      <td>55</td>\n",
              "      <td>8983</td>\n",
              "    </tr>\n",
              "  </tbody>\n",
              "</table>\n",
              "</div>\n",
              "    <div class=\"colab-df-buttons\">\n",
              "\n",
              "  <div class=\"colab-df-container\">\n",
              "    <button class=\"colab-df-convert\" onclick=\"convertToInteractive('df-8ce2a233-88a1-41ea-94eb-18fcbecd9085')\"\n",
              "            title=\"Convert this dataframe to an interactive table.\"\n",
              "            style=\"display:none;\">\n",
              "\n",
              "  <svg xmlns=\"http://www.w3.org/2000/svg\" height=\"24px\" viewBox=\"0 -960 960 960\">\n",
              "    <path d=\"M120-120v-720h720v720H120Zm60-500h600v-160H180v160Zm220 220h160v-160H400v160Zm0 220h160v-160H400v160ZM180-400h160v-160H180v160Zm440 0h160v-160H620v160ZM180-180h160v-160H180v160Zm440 0h160v-160H620v160Z\"/>\n",
              "  </svg>\n",
              "    </button>\n",
              "\n",
              "  <style>\n",
              "    .colab-df-container {\n",
              "      display:flex;\n",
              "      gap: 12px;\n",
              "    }\n",
              "\n",
              "    .colab-df-convert {\n",
              "      background-color: #E8F0FE;\n",
              "      border: none;\n",
              "      border-radius: 50%;\n",
              "      cursor: pointer;\n",
              "      display: none;\n",
              "      fill: #1967D2;\n",
              "      height: 32px;\n",
              "      padding: 0 0 0 0;\n",
              "      width: 32px;\n",
              "    }\n",
              "\n",
              "    .colab-df-convert:hover {\n",
              "      background-color: #E2EBFA;\n",
              "      box-shadow: 0px 1px 2px rgba(60, 64, 67, 0.3), 0px 1px 3px 1px rgba(60, 64, 67, 0.15);\n",
              "      fill: #174EA6;\n",
              "    }\n",
              "\n",
              "    .colab-df-buttons div {\n",
              "      margin-bottom: 4px;\n",
              "    }\n",
              "\n",
              "    [theme=dark] .colab-df-convert {\n",
              "      background-color: #3B4455;\n",
              "      fill: #D2E3FC;\n",
              "    }\n",
              "\n",
              "    [theme=dark] .colab-df-convert:hover {\n",
              "      background-color: #434B5C;\n",
              "      box-shadow: 0px 1px 3px 1px rgba(0, 0, 0, 0.15);\n",
              "      filter: drop-shadow(0px 1px 2px rgba(0, 0, 0, 0.3));\n",
              "      fill: #FFFFFF;\n",
              "    }\n",
              "  </style>\n",
              "\n",
              "    <script>\n",
              "      const buttonEl =\n",
              "        document.querySelector('#df-8ce2a233-88a1-41ea-94eb-18fcbecd9085 button.colab-df-convert');\n",
              "      buttonEl.style.display =\n",
              "        google.colab.kernel.accessAllowed ? 'block' : 'none';\n",
              "\n",
              "      async function convertToInteractive(key) {\n",
              "        const element = document.querySelector('#df-8ce2a233-88a1-41ea-94eb-18fcbecd9085');\n",
              "        const dataTable =\n",
              "          await google.colab.kernel.invokeFunction('convertToInteractive',\n",
              "                                                    [key], {});\n",
              "        if (!dataTable) return;\n",
              "\n",
              "        const docLinkHtml = 'Like what you see? Visit the ' +\n",
              "          '<a target=\"_blank\" href=https://colab.research.google.com/notebooks/data_table.ipynb>data table notebook</a>'\n",
              "          + ' to learn more about interactive tables.';\n",
              "        element.innerHTML = '';\n",
              "        dataTable['output_type'] = 'display_data';\n",
              "        await google.colab.output.renderOutput(dataTable, element);\n",
              "        const docLink = document.createElement('div');\n",
              "        docLink.innerHTML = docLinkHtml;\n",
              "        element.appendChild(docLink);\n",
              "      }\n",
              "    </script>\n",
              "  </div>\n",
              "\n",
              "\n",
              "    <div id=\"df-bfa71ee6-3d84-490b-9752-245a5f4ea5a2\">\n",
              "      <button class=\"colab-df-quickchart\" onclick=\"quickchart('df-bfa71ee6-3d84-490b-9752-245a5f4ea5a2')\"\n",
              "                title=\"Suggest charts\"\n",
              "                style=\"display:none;\">\n",
              "\n",
              "<svg xmlns=\"http://www.w3.org/2000/svg\" height=\"24px\"viewBox=\"0 0 24 24\"\n",
              "     width=\"24px\">\n",
              "    <g>\n",
              "        <path d=\"M19 3H5c-1.1 0-2 .9-2 2v14c0 1.1.9 2 2 2h14c1.1 0 2-.9 2-2V5c0-1.1-.9-2-2-2zM9 17H7v-7h2v7zm4 0h-2V7h2v10zm4 0h-2v-4h2v4z\"/>\n",
              "    </g>\n",
              "</svg>\n",
              "      </button>\n",
              "\n",
              "<style>\n",
              "  .colab-df-quickchart {\n",
              "      --bg-color: #E8F0FE;\n",
              "      --fill-color: #1967D2;\n",
              "      --hover-bg-color: #E2EBFA;\n",
              "      --hover-fill-color: #174EA6;\n",
              "      --disabled-fill-color: #AAA;\n",
              "      --disabled-bg-color: #DDD;\n",
              "  }\n",
              "\n",
              "  [theme=dark] .colab-df-quickchart {\n",
              "      --bg-color: #3B4455;\n",
              "      --fill-color: #D2E3FC;\n",
              "      --hover-bg-color: #434B5C;\n",
              "      --hover-fill-color: #FFFFFF;\n",
              "      --disabled-bg-color: #3B4455;\n",
              "      --disabled-fill-color: #666;\n",
              "  }\n",
              "\n",
              "  .colab-df-quickchart {\n",
              "    background-color: var(--bg-color);\n",
              "    border: none;\n",
              "    border-radius: 50%;\n",
              "    cursor: pointer;\n",
              "    display: none;\n",
              "    fill: var(--fill-color);\n",
              "    height: 32px;\n",
              "    padding: 0;\n",
              "    width: 32px;\n",
              "  }\n",
              "\n",
              "  .colab-df-quickchart:hover {\n",
              "    background-color: var(--hover-bg-color);\n",
              "    box-shadow: 0 1px 2px rgba(60, 64, 67, 0.3), 0 1px 3px 1px rgba(60, 64, 67, 0.15);\n",
              "    fill: var(--button-hover-fill-color);\n",
              "  }\n",
              "\n",
              "  .colab-df-quickchart-complete:disabled,\n",
              "  .colab-df-quickchart-complete:disabled:hover {\n",
              "    background-color: var(--disabled-bg-color);\n",
              "    fill: var(--disabled-fill-color);\n",
              "    box-shadow: none;\n",
              "  }\n",
              "\n",
              "  .colab-df-spinner {\n",
              "    border: 2px solid var(--fill-color);\n",
              "    border-color: transparent;\n",
              "    border-bottom-color: var(--fill-color);\n",
              "    animation:\n",
              "      spin 1s steps(1) infinite;\n",
              "  }\n",
              "\n",
              "  @keyframes spin {\n",
              "    0% {\n",
              "      border-color: transparent;\n",
              "      border-bottom-color: var(--fill-color);\n",
              "      border-left-color: var(--fill-color);\n",
              "    }\n",
              "    20% {\n",
              "      border-color: transparent;\n",
              "      border-left-color: var(--fill-color);\n",
              "      border-top-color: var(--fill-color);\n",
              "    }\n",
              "    30% {\n",
              "      border-color: transparent;\n",
              "      border-left-color: var(--fill-color);\n",
              "      border-top-color: var(--fill-color);\n",
              "      border-right-color: var(--fill-color);\n",
              "    }\n",
              "    40% {\n",
              "      border-color: transparent;\n",
              "      border-right-color: var(--fill-color);\n",
              "      border-top-color: var(--fill-color);\n",
              "    }\n",
              "    60% {\n",
              "      border-color: transparent;\n",
              "      border-right-color: var(--fill-color);\n",
              "    }\n",
              "    80% {\n",
              "      border-color: transparent;\n",
              "      border-right-color: var(--fill-color);\n",
              "      border-bottom-color: var(--fill-color);\n",
              "    }\n",
              "    90% {\n",
              "      border-color: transparent;\n",
              "      border-bottom-color: var(--fill-color);\n",
              "    }\n",
              "  }\n",
              "</style>\n",
              "\n",
              "      <script>\n",
              "        async function quickchart(key) {\n",
              "          const quickchartButtonEl =\n",
              "            document.querySelector('#' + key + ' button');\n",
              "          quickchartButtonEl.disabled = true;  // To prevent multiple clicks.\n",
              "          quickchartButtonEl.classList.add('colab-df-spinner');\n",
              "          try {\n",
              "            const charts = await google.colab.kernel.invokeFunction(\n",
              "                'suggestCharts', [key], {});\n",
              "          } catch (error) {\n",
              "            console.error('Error during call to suggestCharts:', error);\n",
              "          }\n",
              "          quickchartButtonEl.classList.remove('colab-df-spinner');\n",
              "          quickchartButtonEl.classList.add('colab-df-quickchart-complete');\n",
              "        }\n",
              "        (() => {\n",
              "          let quickchartButtonEl =\n",
              "            document.querySelector('#df-bfa71ee6-3d84-490b-9752-245a5f4ea5a2 button');\n",
              "          quickchartButtonEl.style.display =\n",
              "            google.colab.kernel.accessAllowed ? 'block' : 'none';\n",
              "        })();\n",
              "      </script>\n",
              "    </div>\n",
              "\n",
              "    </div>\n",
              "  </div>\n"
            ],
            "application/vnd.google.colaboratory.intrinsic+json": {
              "type": "dataframe",
              "summary": "{\n  \"name\": \"display(merged_df\",\n  \"rows\": 5,\n  \"fields\": [\n    {\n      \"column\": \"userID\",\n      \"properties\": {\n        \"dtype\": \"number\",\n        \"std\": 0,\n        \"min\": 2,\n        \"max\": 2,\n        \"num_unique_values\": 1,\n        \"samples\": [\n          2\n        ],\n        \"semantic_type\": \"\",\n        \"description\": \"\"\n      }\n    },\n    {\n      \"column\": \"artistID\",\n      \"properties\": {\n        \"dtype\": \"number\",\n        \"std\": 1,\n        \"min\": 51,\n        \"max\": 55,\n        \"num_unique_values\": 5,\n        \"samples\": [\n          52\n        ],\n        \"semantic_type\": \"\",\n        \"description\": \"\"\n      }\n    },\n    {\n      \"column\": \"nro_reproducciones\",\n      \"properties\": {\n        \"dtype\": \"number\",\n        \"std\": 1815,\n        \"min\": 8983,\n        \"max\": 13883,\n        \"num_unique_values\": 5,\n        \"samples\": [\n          11690\n        ],\n        \"semantic_type\": \"\",\n        \"description\": \"\"\n      }\n    }\n  ]\n}"
            }
          },
          "metadata": {}
        },
        {
          "output_type": "display_data",
          "data": {
            "text/plain": [
              "   userID  artistID  nro_reproducciones     artistName  \\\n",
              "0       2        51               13883    Duran Duran   \n",
              "1       2        52               11690      Morcheeba   \n",
              "2       2        53               11351            Air   \n",
              "3       2        54               10300   Hooverphonic   \n",
              "4       2        55                8983  Kylie Minogue   \n",
              "\n",
              "                                      url  \\\n",
              "0    http://www.last.fm/music/Duran+Duran   \n",
              "1      http://www.last.fm/music/Morcheeba   \n",
              "2            http://www.last.fm/music/Air   \n",
              "3   http://www.last.fm/music/Hooverphonic   \n",
              "4  http://www.last.fm/music/Kylie+Minogue   \n",
              "\n",
              "                                          pictureURL  \n",
              "0   http://userserve-ak.last.fm/serve/252/155668.jpg  \n",
              "1  http://userserve-ak.last.fm/serve/252/46005111...  \n",
              "2   http://userserve-ak.last.fm/serve/252/251119.jpg  \n",
              "3  http://userserve-ak.last.fm/serve/252/40553471...  \n",
              "4  http://userserve-ak.last.fm/serve/252/12740835...  "
            ],
            "text/html": [
              "\n",
              "  <div id=\"df-42fed46d-8285-4320-9743-3a5846f07cad\" class=\"colab-df-container\">\n",
              "    <div>\n",
              "<style scoped>\n",
              "    .dataframe tbody tr th:only-of-type {\n",
              "        vertical-align: middle;\n",
              "    }\n",
              "\n",
              "    .dataframe tbody tr th {\n",
              "        vertical-align: top;\n",
              "    }\n",
              "\n",
              "    .dataframe thead th {\n",
              "        text-align: right;\n",
              "    }\n",
              "</style>\n",
              "<table border=\"1\" class=\"dataframe\">\n",
              "  <thead>\n",
              "    <tr style=\"text-align: right;\">\n",
              "      <th></th>\n",
              "      <th>userID</th>\n",
              "      <th>artistID</th>\n",
              "      <th>nro_reproducciones</th>\n",
              "      <th>artistName</th>\n",
              "      <th>url</th>\n",
              "      <th>pictureURL</th>\n",
              "    </tr>\n",
              "  </thead>\n",
              "  <tbody>\n",
              "    <tr>\n",
              "      <th>0</th>\n",
              "      <td>2</td>\n",
              "      <td>51</td>\n",
              "      <td>13883</td>\n",
              "      <td>Duran Duran</td>\n",
              "      <td>http://www.last.fm/music/Duran+Duran</td>\n",
              "      <td>http://userserve-ak.last.fm/serve/252/155668.jpg</td>\n",
              "    </tr>\n",
              "    <tr>\n",
              "      <th>1</th>\n",
              "      <td>2</td>\n",
              "      <td>52</td>\n",
              "      <td>11690</td>\n",
              "      <td>Morcheeba</td>\n",
              "      <td>http://www.last.fm/music/Morcheeba</td>\n",
              "      <td>http://userserve-ak.last.fm/serve/252/46005111...</td>\n",
              "    </tr>\n",
              "    <tr>\n",
              "      <th>2</th>\n",
              "      <td>2</td>\n",
              "      <td>53</td>\n",
              "      <td>11351</td>\n",
              "      <td>Air</td>\n",
              "      <td>http://www.last.fm/music/Air</td>\n",
              "      <td>http://userserve-ak.last.fm/serve/252/251119.jpg</td>\n",
              "    </tr>\n",
              "    <tr>\n",
              "      <th>3</th>\n",
              "      <td>2</td>\n",
              "      <td>54</td>\n",
              "      <td>10300</td>\n",
              "      <td>Hooverphonic</td>\n",
              "      <td>http://www.last.fm/music/Hooverphonic</td>\n",
              "      <td>http://userserve-ak.last.fm/serve/252/40553471...</td>\n",
              "    </tr>\n",
              "    <tr>\n",
              "      <th>4</th>\n",
              "      <td>2</td>\n",
              "      <td>55</td>\n",
              "      <td>8983</td>\n",
              "      <td>Kylie Minogue</td>\n",
              "      <td>http://www.last.fm/music/Kylie+Minogue</td>\n",
              "      <td>http://userserve-ak.last.fm/serve/252/12740835...</td>\n",
              "    </tr>\n",
              "  </tbody>\n",
              "</table>\n",
              "</div>\n",
              "    <div class=\"colab-df-buttons\">\n",
              "\n",
              "  <div class=\"colab-df-container\">\n",
              "    <button class=\"colab-df-convert\" onclick=\"convertToInteractive('df-42fed46d-8285-4320-9743-3a5846f07cad')\"\n",
              "            title=\"Convert this dataframe to an interactive table.\"\n",
              "            style=\"display:none;\">\n",
              "\n",
              "  <svg xmlns=\"http://www.w3.org/2000/svg\" height=\"24px\" viewBox=\"0 -960 960 960\">\n",
              "    <path d=\"M120-120v-720h720v720H120Zm60-500h600v-160H180v160Zm220 220h160v-160H400v160Zm0 220h160v-160H400v160ZM180-400h160v-160H180v160Zm440 0h160v-160H620v160ZM180-180h160v-160H180v160Zm440 0h160v-160H620v160Z\"/>\n",
              "  </svg>\n",
              "    </button>\n",
              "\n",
              "  <style>\n",
              "    .colab-df-container {\n",
              "      display:flex;\n",
              "      gap: 12px;\n",
              "    }\n",
              "\n",
              "    .colab-df-convert {\n",
              "      background-color: #E8F0FE;\n",
              "      border: none;\n",
              "      border-radius: 50%;\n",
              "      cursor: pointer;\n",
              "      display: none;\n",
              "      fill: #1967D2;\n",
              "      height: 32px;\n",
              "      padding: 0 0 0 0;\n",
              "      width: 32px;\n",
              "    }\n",
              "\n",
              "    .colab-df-convert:hover {\n",
              "      background-color: #E2EBFA;\n",
              "      box-shadow: 0px 1px 2px rgba(60, 64, 67, 0.3), 0px 1px 3px 1px rgba(60, 64, 67, 0.15);\n",
              "      fill: #174EA6;\n",
              "    }\n",
              "\n",
              "    .colab-df-buttons div {\n",
              "      margin-bottom: 4px;\n",
              "    }\n",
              "\n",
              "    [theme=dark] .colab-df-convert {\n",
              "      background-color: #3B4455;\n",
              "      fill: #D2E3FC;\n",
              "    }\n",
              "\n",
              "    [theme=dark] .colab-df-convert:hover {\n",
              "      background-color: #434B5C;\n",
              "      box-shadow: 0px 1px 3px 1px rgba(0, 0, 0, 0.15);\n",
              "      filter: drop-shadow(0px 1px 2px rgba(0, 0, 0, 0.3));\n",
              "      fill: #FFFFFF;\n",
              "    }\n",
              "  </style>\n",
              "\n",
              "    <script>\n",
              "      const buttonEl =\n",
              "        document.querySelector('#df-42fed46d-8285-4320-9743-3a5846f07cad button.colab-df-convert');\n",
              "      buttonEl.style.display =\n",
              "        google.colab.kernel.accessAllowed ? 'block' : 'none';\n",
              "\n",
              "      async function convertToInteractive(key) {\n",
              "        const element = document.querySelector('#df-42fed46d-8285-4320-9743-3a5846f07cad');\n",
              "        const dataTable =\n",
              "          await google.colab.kernel.invokeFunction('convertToInteractive',\n",
              "                                                    [key], {});\n",
              "        if (!dataTable) return;\n",
              "\n",
              "        const docLinkHtml = 'Like what you see? Visit the ' +\n",
              "          '<a target=\"_blank\" href=https://colab.research.google.com/notebooks/data_table.ipynb>data table notebook</a>'\n",
              "          + ' to learn more about interactive tables.';\n",
              "        element.innerHTML = '';\n",
              "        dataTable['output_type'] = 'display_data';\n",
              "        await google.colab.output.renderOutput(dataTable, element);\n",
              "        const docLink = document.createElement('div');\n",
              "        docLink.innerHTML = docLinkHtml;\n",
              "        element.appendChild(docLink);\n",
              "      }\n",
              "    </script>\n",
              "  </div>\n",
              "\n",
              "\n",
              "    <div id=\"df-f2bb1ec8-6e14-45ea-b3b3-ac58fb65e27b\">\n",
              "      <button class=\"colab-df-quickchart\" onclick=\"quickchart('df-f2bb1ec8-6e14-45ea-b3b3-ac58fb65e27b')\"\n",
              "                title=\"Suggest charts\"\n",
              "                style=\"display:none;\">\n",
              "\n",
              "<svg xmlns=\"http://www.w3.org/2000/svg\" height=\"24px\"viewBox=\"0 0 24 24\"\n",
              "     width=\"24px\">\n",
              "    <g>\n",
              "        <path d=\"M19 3H5c-1.1 0-2 .9-2 2v14c0 1.1.9 2 2 2h14c1.1 0 2-.9 2-2V5c0-1.1-.9-2-2-2zM9 17H7v-7h2v7zm4 0h-2V7h2v10zm4 0h-2v-4h2v4z\"/>\n",
              "    </g>\n",
              "</svg>\n",
              "      </button>\n",
              "\n",
              "<style>\n",
              "  .colab-df-quickchart {\n",
              "      --bg-color: #E8F0FE;\n",
              "      --fill-color: #1967D2;\n",
              "      --hover-bg-color: #E2EBFA;\n",
              "      --hover-fill-color: #174EA6;\n",
              "      --disabled-fill-color: #AAA;\n",
              "      --disabled-bg-color: #DDD;\n",
              "  }\n",
              "\n",
              "  [theme=dark] .colab-df-quickchart {\n",
              "      --bg-color: #3B4455;\n",
              "      --fill-color: #D2E3FC;\n",
              "      --hover-bg-color: #434B5C;\n",
              "      --hover-fill-color: #FFFFFF;\n",
              "      --disabled-bg-color: #3B4455;\n",
              "      --disabled-fill-color: #666;\n",
              "  }\n",
              "\n",
              "  .colab-df-quickchart {\n",
              "    background-color: var(--bg-color);\n",
              "    border: none;\n",
              "    border-radius: 50%;\n",
              "    cursor: pointer;\n",
              "    display: none;\n",
              "    fill: var(--fill-color);\n",
              "    height: 32px;\n",
              "    padding: 0;\n",
              "    width: 32px;\n",
              "  }\n",
              "\n",
              "  .colab-df-quickchart:hover {\n",
              "    background-color: var(--hover-bg-color);\n",
              "    box-shadow: 0 1px 2px rgba(60, 64, 67, 0.3), 0 1px 3px 1px rgba(60, 64, 67, 0.15);\n",
              "    fill: var(--button-hover-fill-color);\n",
              "  }\n",
              "\n",
              "  .colab-df-quickchart-complete:disabled,\n",
              "  .colab-df-quickchart-complete:disabled:hover {\n",
              "    background-color: var(--disabled-bg-color);\n",
              "    fill: var(--disabled-fill-color);\n",
              "    box-shadow: none;\n",
              "  }\n",
              "\n",
              "  .colab-df-spinner {\n",
              "    border: 2px solid var(--fill-color);\n",
              "    border-color: transparent;\n",
              "    border-bottom-color: var(--fill-color);\n",
              "    animation:\n",
              "      spin 1s steps(1) infinite;\n",
              "  }\n",
              "\n",
              "  @keyframes spin {\n",
              "    0% {\n",
              "      border-color: transparent;\n",
              "      border-bottom-color: var(--fill-color);\n",
              "      border-left-color: var(--fill-color);\n",
              "    }\n",
              "    20% {\n",
              "      border-color: transparent;\n",
              "      border-left-color: var(--fill-color);\n",
              "      border-top-color: var(--fill-color);\n",
              "    }\n",
              "    30% {\n",
              "      border-color: transparent;\n",
              "      border-left-color: var(--fill-color);\n",
              "      border-top-color: var(--fill-color);\n",
              "      border-right-color: var(--fill-color);\n",
              "    }\n",
              "    40% {\n",
              "      border-color: transparent;\n",
              "      border-right-color: var(--fill-color);\n",
              "      border-top-color: var(--fill-color);\n",
              "    }\n",
              "    60% {\n",
              "      border-color: transparent;\n",
              "      border-right-color: var(--fill-color);\n",
              "    }\n",
              "    80% {\n",
              "      border-color: transparent;\n",
              "      border-right-color: var(--fill-color);\n",
              "      border-bottom-color: var(--fill-color);\n",
              "    }\n",
              "    90% {\n",
              "      border-color: transparent;\n",
              "      border-bottom-color: var(--fill-color);\n",
              "    }\n",
              "  }\n",
              "</style>\n",
              "\n",
              "      <script>\n",
              "        async function quickchart(key) {\n",
              "          const quickchartButtonEl =\n",
              "            document.querySelector('#' + key + ' button');\n",
              "          quickchartButtonEl.disabled = true;  // To prevent multiple clicks.\n",
              "          quickchartButtonEl.classList.add('colab-df-spinner');\n",
              "          try {\n",
              "            const charts = await google.colab.kernel.invokeFunction(\n",
              "                'suggestCharts', [key], {});\n",
              "          } catch (error) {\n",
              "            console.error('Error during call to suggestCharts:', error);\n",
              "          }\n",
              "          quickchartButtonEl.classList.remove('colab-df-spinner');\n",
              "          quickchartButtonEl.classList.add('colab-df-quickchart-complete');\n",
              "        }\n",
              "        (() => {\n",
              "          let quickchartButtonEl =\n",
              "            document.querySelector('#df-f2bb1ec8-6e14-45ea-b3b3-ac58fb65e27b button');\n",
              "          quickchartButtonEl.style.display =\n",
              "            google.colab.kernel.accessAllowed ? 'block' : 'none';\n",
              "        })();\n",
              "      </script>\n",
              "    </div>\n",
              "\n",
              "    </div>\n",
              "  </div>\n"
            ],
            "application/vnd.google.colaboratory.intrinsic+json": {
              "type": "dataframe",
              "summary": "{\n  \"name\": \"display(merged_df\",\n  \"rows\": 5,\n  \"fields\": [\n    {\n      \"column\": \"userID\",\n      \"properties\": {\n        \"dtype\": \"number\",\n        \"std\": 0,\n        \"min\": 2,\n        \"max\": 2,\n        \"num_unique_values\": 1,\n        \"samples\": [\n          2\n        ],\n        \"semantic_type\": \"\",\n        \"description\": \"\"\n      }\n    },\n    {\n      \"column\": \"artistID\",\n      \"properties\": {\n        \"dtype\": \"number\",\n        \"std\": 1,\n        \"min\": 51,\n        \"max\": 55,\n        \"num_unique_values\": 5,\n        \"samples\": [\n          52\n        ],\n        \"semantic_type\": \"\",\n        \"description\": \"\"\n      }\n    },\n    {\n      \"column\": \"nro_reproducciones\",\n      \"properties\": {\n        \"dtype\": \"number\",\n        \"std\": 1815,\n        \"min\": 8983,\n        \"max\": 13883,\n        \"num_unique_values\": 5,\n        \"samples\": [\n          11690\n        ],\n        \"semantic_type\": \"\",\n        \"description\": \"\"\n      }\n    },\n    {\n      \"column\": \"artistName\",\n      \"properties\": {\n        \"dtype\": \"string\",\n        \"num_unique_values\": 5,\n        \"samples\": [\n          \"Morcheeba\"\n        ],\n        \"semantic_type\": \"\",\n        \"description\": \"\"\n      }\n    },\n    {\n      \"column\": \"url\",\n      \"properties\": {\n        \"dtype\": \"string\",\n        \"num_unique_values\": 5,\n        \"samples\": [\n          \"http://www.last.fm/music/Morcheeba\"\n        ],\n        \"semantic_type\": \"\",\n        \"description\": \"\"\n      }\n    },\n    {\n      \"column\": \"pictureURL\",\n      \"properties\": {\n        \"dtype\": \"string\",\n        \"num_unique_values\": 5,\n        \"samples\": [\n          \"http://userserve-ak.last.fm/serve/252/46005111.png\"\n        ],\n        \"semantic_type\": \"\",\n        \"description\": \"\"\n      }\n    }\n  ]\n}"
            }
          },
          "metadata": {}
        },
        {
          "output_type": "stream",
          "name": "stdout",
          "text": [
            "<class 'pandas.core.frame.DataFrame'>\n",
            "RangeIndex: 17632 entries, 0 to 17631\n",
            "Data columns (total 4 columns):\n",
            " #   Column      Non-Null Count  Dtype \n",
            "---  ------      --------------  ----- \n",
            " 0   artistID    17632 non-null  int64 \n",
            " 1   artistName  17632 non-null  object\n",
            " 2   url         17632 non-null  object\n",
            " 3   pictureURL  17188 non-null  object\n",
            "dtypes: int64(1), object(3)\n",
            "memory usage: 551.1+ KB\n"
          ]
        },
        {
          "output_type": "display_data",
          "data": {
            "text/plain": [
              "None"
            ]
          },
          "metadata": {}
        },
        {
          "output_type": "stream",
          "name": "stdout",
          "text": [
            "<class 'pandas.core.frame.DataFrame'>\n",
            "RangeIndex: 92834 entries, 0 to 92833\n",
            "Data columns (total 3 columns):\n",
            " #   Column              Non-Null Count  Dtype\n",
            "---  ------              --------------  -----\n",
            " 0   userID              92834 non-null  int64\n",
            " 1   artistID            92834 non-null  int64\n",
            " 2   nro_reproducciones  92834 non-null  int64\n",
            "dtypes: int64(3)\n",
            "memory usage: 2.1 MB\n"
          ]
        },
        {
          "output_type": "display_data",
          "data": {
            "text/plain": [
              "None"
            ]
          },
          "metadata": {}
        },
        {
          "output_type": "stream",
          "name": "stdout",
          "text": [
            "<class 'pandas.core.frame.DataFrame'>\n",
            "RangeIndex: 92834 entries, 0 to 92833\n",
            "Data columns (total 6 columns):\n",
            " #   Column              Non-Null Count  Dtype \n",
            "---  ------              --------------  ----- \n",
            " 0   userID              92834 non-null  int64 \n",
            " 1   artistID            92834 non-null  int64 \n",
            " 2   nro_reproducciones  92834 non-null  int64 \n",
            " 3   artistName          92834 non-null  object\n",
            " 4   url                 92834 non-null  object\n",
            " 5   pictureURL          92389 non-null  object\n",
            "dtypes: int64(3), object(3)\n",
            "memory usage: 4.2+ MB\n"
          ]
        },
        {
          "output_type": "display_data",
          "data": {
            "text/plain": [
              "None"
            ]
          },
          "metadata": {}
        }
      ],
      "source": [
        "# Utilice este espacio para escribir el código.\n",
        "\n",
        "import pandas as pd\n",
        "\n",
        "# Load the artists.dat file\n",
        "artists_df = pd.read_csv('/content/artists.dat', sep='\\t', header=0)\n",
        "\n",
        "user_artist_df = pd.read_csv('/content/user_artists.dat', sep='\\t', header=0)\n",
        "\n",
        "# Rename columns for merging\n",
        "artists_df = artists_df.rename(columns={'id': 'artistID', 'name': 'artistName'})\n",
        "user_artist_df = user_artist_df.rename(columns={'weight': 'nro_reproducciones'})\n",
        "\n",
        "# Merge the two dataframes\n",
        "merged_df = pd.merge(user_artist_df, artists_df, on='artistID')\n",
        "\n",
        "# Display the first few rows\n",
        "display(artists_df.head())\n",
        "\n",
        "display(user_artist_df.head())\n",
        "\n",
        "display(merged_df.head())\n",
        "\n",
        "display(artists_df.info())\n",
        "\n",
        "display(user_artist_df.info())\n",
        "\n",
        "display(merged_df.info())"
      ],
      "id": "NaGIbVP9V-WS"
    },
    {
      "cell_type": "markdown",
      "metadata": {
        "id": "53tmZkleV-WV"
      },
      "source": [
        "(Utilice este espacio para describir el procedimiento, análisis y conclusiones)."
      ],
      "id": "53tmZkleV-WV"
    },
    {
      "cell_type": "markdown",
      "metadata": {
        "noteable": {
          "cell_type": "markdown"
        },
        "id": "-CJkJm4QV-WW"
      },
      "source": [
        "### 2. Análisis preliminar.\n",
        "\n",
        "En esta sección exploraremos la base. Para ello responda las siguientes preguntas.\n",
        "\n",
        "#### 2.1 ¿Cuantos usuarios y artistas hay en la base?\n"
      ],
      "id": "-CJkJm4QV-WW"
    },
    {
      "cell_type": "markdown",
      "metadata": {
        "id": "Z4hBMLnUV-WX"
      },
      "source": [
        "\n",
        "#### 2.2 ¿Cuáles es la distribución de probabilidad del consumo por artista? (haga el calculo sin ponderar y ponderando por el numero de reproducciones) ¿Qué podemos inferir a partir de la comparación de ambas?"
      ],
      "id": "Z4hBMLnUV-WX"
    },
    {
      "cell_type": "code",
      "execution_count": null,
      "metadata": {
        "id": "lIOvQz4GV-WY"
      },
      "outputs": [],
      "source": [
        "# Utilice este espacio para escribir el código."
      ],
      "id": "lIOvQz4GV-WY"
    },
    {
      "cell_type": "markdown",
      "metadata": {
        "id": "hfost8RYV-WY"
      },
      "source": [
        "(Utilice este espacio para describir el procedimiento, análisis y conclusiones)."
      ],
      "id": "hfost8RYV-WY"
    },
    {
      "cell_type": "markdown",
      "metadata": {
        "noteable": {
          "cell_type": "markdown"
        },
        "id": "0JpCg45AV-WZ"
      },
      "source": [
        "#### 2.3 Para el usuario 8 (`userID==8`) ¿cuál es la distribución de reproducción de artistas basado en el número de reproducciones relativas?. Presente sus resultados usando tablas y/o gráficas. ¿Encuentra algún patrón en los artistas que escucha y las veces que reproduce? ¿Podemos decir algo de sus preferencias?\n"
      ],
      "id": "0JpCg45AV-WZ"
    },
    {
      "cell_type": "code",
      "execution_count": null,
      "metadata": {
        "id": "Fjek64vMV-WZ"
      },
      "outputs": [],
      "source": [
        "# Utilice este espacio para escribir el código."
      ],
      "id": "Fjek64vMV-WZ"
    },
    {
      "cell_type": "markdown",
      "metadata": {
        "id": "fOhWlNo7V-Wa"
      },
      "source": [
        "(Utilice este espacio para describir el procedimiento, análisis y conclusiones)."
      ],
      "id": "fOhWlNo7V-Wa"
    },
    {
      "cell_type": "markdown",
      "metadata": {
        "noteable": {
          "cell_type": "markdown"
        },
        "id": "2bHVkF78V-Wb"
      },
      "source": [
        "### 3. Generando Recomendaciones\n",
        "\n",
        "En esta sección nos interesa generar recomendaciones ***nuevas y relevantes*** para el usuario 8 (`userID==8`). Para ello vamos a generar distintos sistemas de recomendación y comparar las recomendaciones generadas."
      ],
      "id": "2bHVkF78V-Wb"
    },
    {
      "cell_type": "markdown",
      "metadata": {
        "noteable": {
          "cell_type": "markdown"
        },
        "id": "qbeiBIsnV-Wb"
      },
      "source": [
        "#### 3.1. Filtrado colaborativo sencillo: promedios simples.\n",
        "\n",
        "Usando el promedio simple basado en el número de usuarios que escucha un artista (sin considerar el número de veces que estos usuarios reproducen al artista) genere una tabla y/o gráfica con 10 recomendaciones de artistas para este usuario. Explique con cuidado su procedimiento y justifique sus elecciones."
      ],
      "id": "qbeiBIsnV-Wb"
    },
    {
      "cell_type": "code",
      "execution_count": null,
      "metadata": {
        "id": "Bx0McE-UV-Wb"
      },
      "outputs": [],
      "source": [
        "# Utilice este espacio para escribir el código."
      ],
      "id": "Bx0McE-UV-Wb"
    },
    {
      "cell_type": "markdown",
      "metadata": {
        "id": "z_3qYl3JV-Wc"
      },
      "source": [
        "(Utilice este espacio para describir el procedimiento, análisis y conclusiones)."
      ],
      "id": "z_3qYl3JV-Wc"
    },
    {
      "cell_type": "markdown",
      "metadata": {
        "id": "UBxi5SZ7V-Wc"
      },
      "source": [
        "#### 3.2.  Filtrado colaborativo sencillo: promedios ponderados.\n",
        "\n",
        "Utilice un promedio ponderado para generar las recomendaciones. Considere el número de veces que los usuarios reproducen al artista. En otras palabras, genere un ponderador que use el número de veces que el artista fue reproducido (`nro_reproducciones`). Este método pondera la popularidad de un artista, combinando el número de usuarios que lo escuchan con la frecuencia de reproducción, de manera que los artistas con más reproducciones reciban una mayor ponderación.\n",
        "\n",
        "Genere una tabla y/o gráfica con las 10 principales recomendaciones de artistas para este usuario. Explique detalladamente su procedimiento y justifique sus elecciones. Compare estas recomendaciones con las del sistema implementado en el paso anterior."
      ],
      "id": "UBxi5SZ7V-Wc"
    },
    {
      "cell_type": "code",
      "execution_count": null,
      "metadata": {
        "id": "Pve5hKLYV-Wc"
      },
      "outputs": [],
      "source": [
        "# Utilice este espacio para escribir el código."
      ],
      "id": "Pve5hKLYV-Wc"
    },
    {
      "cell_type": "markdown",
      "metadata": {
        "id": "6-ct7FRWV-Wd"
      },
      "source": [
        "(Utilice este espacio para describir el procedimiento, análisis y conclusiones)."
      ],
      "id": "6-ct7FRWV-Wd"
    },
    {
      "cell_type": "markdown",
      "metadata": {
        "noteable": {
          "cell_type": "markdown"
        },
        "id": "d--gAv_LV-Wd"
      },
      "source": [
        "#### 3.3.  Filtrado colaborativo sencillo: similitud de coseno.\n",
        "\n",
        "Usando el promedio ponderado de reproducciones genere una tabla y/o gráfica  con 10 recomendaciones de artistas para este usuario. Para generar los pesos utilice la distancia de coseno. Explique con cuidado su procedimiento y justifique sus elecciones. Compare las recomendaciones con el sistema implementado en el paso anterior."
      ],
      "id": "d--gAv_LV-Wd"
    },
    {
      "cell_type": "code",
      "execution_count": null,
      "metadata": {
        "id": "6l8Z6O8-V-Wd"
      },
      "outputs": [],
      "source": [
        "# Utilice este espacio para escribir el código."
      ],
      "id": "6l8Z6O8-V-Wd"
    },
    {
      "cell_type": "markdown",
      "metadata": {
        "id": "3BHOo3YDV-Wd"
      },
      "source": [
        "(Utilice este espacio para describir el procedimiento, análisis y conclusiones)."
      ],
      "id": "3BHOo3YDV-Wd"
    },
    {
      "cell_type": "markdown",
      "metadata": {
        "noteable": {
          "cell_type": "markdown"
        },
        "id": "4TAtO7k4V-We"
      },
      "source": [
        "#### 3.4.  Filtrado colaborativo usando SVD\n",
        "\n",
        "\n",
        "Usando la descomposición en valores singulares (SVD) genere una tabla y/o gráfica  con 10 recomendaciones de artistas para este usuario.  Explique con cuidado su procedimiento y justifique sus elecciones. Compare las recomendaciones con el sistema implementado en los pasos anteriores.\n"
      ],
      "id": "4TAtO7k4V-We"
    },
    {
      "cell_type": "code",
      "execution_count": null,
      "metadata": {
        "id": "GfXmWEP1V-We"
      },
      "outputs": [],
      "source": [
        "# Utilice este espacio para escribir el código."
      ],
      "id": "GfXmWEP1V-We"
    },
    {
      "cell_type": "markdown",
      "metadata": {
        "ExecuteTime": {
          "end_time": "2023-07-20T13:08:53.953788+00:00",
          "start_time": "2023-07-20T13:08:00.765701+00:00"
        },
        "noteable": {
          "cell_type": "code",
          "output_collection_id": "7748407e-0324-4bc3-a209-c6a2068ebdf2"
        },
        "id": "cyk92XONV-We"
      },
      "source": [
        "(Utilice este espacio para describir el procedimiento, análisis y conclusiones)."
      ],
      "id": "cyk92XONV-We"
    },
    {
      "cell_type": "markdown",
      "metadata": {
        "noteable": {
          "cell_type": "markdown"
        },
        "id": "p0Y8XlTTV-Wf"
      },
      "source": [
        "#### 3.5.  Filtrado colaborativo usando Análisis de Canasta de Compra\n",
        "\n",
        "Usando  el algoritmo `Apriori` genere una tabla y/o gráfica  con 10 recomendaciones de artistas para este usuario.  Explique con cuidado su procedimiento y justifique sus elecciones. Compare las recomendaciones con el sistema implementado en los pasos anteriores. Esto puede tomar mucho tiempo, sea cuidadoso al elegir los hiper-parámetors del modelo, utilice los resultados de las estadísticas descriptivas para elegir sus hiper-parámetros, y genere solo reglas con 2 elementos. (Puede también aprovechar los recursos de [Google Colab](https://colab.research.google.com/))\n"
      ],
      "id": "p0Y8XlTTV-Wf"
    },
    {
      "cell_type": "code",
      "execution_count": null,
      "metadata": {
        "id": "2bHlIgnBV-Wf"
      },
      "outputs": [],
      "source": [
        "# Utilice este espacio para escribir el código."
      ],
      "id": "2bHlIgnBV-Wf"
    },
    {
      "cell_type": "markdown",
      "metadata": {
        "ExecuteTime": null,
        "noteable": {
          "cell_type": "code",
          "output_collection_id": "c81565ab-5de5-49a9-819f-ca3f6f442a3c"
        },
        "id": "bFQavXmEV-Wg"
      },
      "source": [
        "(Utilice este espacio para describir el procedimiento, análisis y conclusiones)."
      ],
      "id": "bFQavXmEV-Wg"
    },
    {
      "cell_type": "markdown",
      "metadata": {
        "id": "Kh4KeiGkV-Wg"
      },
      "source": [
        "### 4. Recomendaciones generales\n",
        "\n",
        "De acuerdo con los resultados encontrados, en su opinión ¿qué procedimiento generó las mejores recomendaciones para este usuario? ¿Cómo implementaría una evaluación objetiva de estas recomendaciones? Justifique su respuesta."
      ],
      "id": "Kh4KeiGkV-Wg"
    },
    {
      "cell_type": "markdown",
      "metadata": {
        "id": "qRsXINOZV-Wg"
      },
      "source": [
        "(Utilice este espacio para describir el procedimiento, análisis y conclusiones)."
      ],
      "id": "qRsXINOZV-Wg"
    }
  ],
  "metadata": {
    "kernelspec": {
      "display_name": "Python 3 (ipykernel)",
      "language": "python",
      "name": "python3"
    },
    "language_info": {
      "codemirror_mode": {
        "name": "ipython",
        "version": 3
      },
      "file_extension": ".py",
      "mimetype": "text/x-python",
      "name": "python",
      "nbconvert_exporter": "python",
      "pygments_lexer": "ipython3",
      "version": "3.7.6"
    },
    "noteable": {
      "last_transaction_id": "6d8b1923-2053-48b7-b0ac-3ca8bd83674a"
    },
    "selected_hardware_size": "small",
    "toc": {
      "base_numbering": 1,
      "nav_menu": {},
      "number_sections": true,
      "sideBar": true,
      "skip_h1_title": false,
      "title_cell": "Table of Contents",
      "title_sidebar": "Contents",
      "toc_cell": false,
      "toc_position": {},
      "toc_section_display": true,
      "toc_window_display": true
    },
    "colab": {
      "provenance": []
    }
  },
  "nbformat": 4,
  "nbformat_minor": 5
}