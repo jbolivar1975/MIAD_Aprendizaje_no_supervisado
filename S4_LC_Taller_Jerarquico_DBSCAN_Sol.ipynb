{
 "cells": [
  {
   "cell_type": "markdown",
   "metadata": {},
   "source": [
    "<div >\n",
    "<img src = \"figs/ans_banner_1920x200.png\" />\n",
    "</div>"
   ]
  },
  {
   "cell_type": "markdown",
   "metadata": {},
   "source": [
    "# Caso-taller:  Segmentación de Clientes con Clustering Jerárquico y DBSCAN"
   ]
  },
  {
   "cell_type": "markdown",
   "metadata": {},
   "source": [
    "El objetivo de este caso-taller es analizar una base de datos ficticia sobre clientes de una tienda y buscar encontrar grupos de clientes que permitan generar estrategias de marketing focalizadas. La base se encuentra en los `Archivos de Laboratorio` en la carpeta `data` y cuenta con 200 observaciones y 5 variables:\n",
    "\n",
    "- `Id_Cliente`: identificador de cliente.\n",
    "- `Genero`: género del cliente: Mujer, Hombre\n",
    "- `Edad`: edad en años\n",
    "- `Ingreso`: ingresos anuales\n",
    "- `Puntaje_Gasto`: es una variable que mide cuán a menudo un cliente compra en la tienda, siendo 100 el puntaje más alto.\n"
   ]
  },
  {
   "cell_type": "markdown",
   "metadata": {},
   "source": [
    "## Instrucciones generales\n",
    "\n",
    "1. Para desarrollar el *cuaderno* primero debe descargarlo.\n",
    "\n",
    "2. Para responder cada inciso deberá utilizar el espacio debidamente especificado.\n",
    "\n",
    "3. La actividad será calificada sólo si sube el *cuaderno* de jupyter notebook con extensión `.ipynb` en la actividad designada como \"entrega calificada por el personal\".\n",
    "\n",
    "4. El archivo entregado debe poder ser ejecutado localmente por el tutor. Sea cuidadoso con la especificación de la ubicación de los archivos de soporte, guarde la carpeta de datos en el mismo `path` de su cuaderno, por ejemplo: `data`."
   ]
  },
  {
   "cell_type": "code",
   "execution_count": null,
   "id": "95f6931d",
   "metadata": {},
   "outputs": [],
   "source": [
    "# --- 0) Librerías y utilidades generales ---\n",
    "import numpy as np\n",
    "import pandas as pd\n",
    "import matplotlib.pyplot as plt\n",
    "\n",
    "from scipy import stats\n",
    "from scipy.cluster.hierarchy import linkage, dendrogram, fcluster\n",
    "from sklearn.preprocessing import StandardScaler\n",
    "from sklearn.cluster import AgglomerativeClustering, DBSCAN\n",
    "from sklearn.neighbors import NearestNeighbors\n",
    "import statsmodels.api as sm\n",
    "import statsmodels.formula.api as smf\n",
    "from statsmodels.stats.anova import anova_lm\n",
    "\n",
    "plt.rcParams[\"figure.figsize\"] = (8, 5)\n",
    "\n",
    "def cohen_d(x, y):\n",
    "    \"\"\"Tamaño de efecto para t-test de dos muestras (Welch).\"\"\"\n",
    "    x, y = np.asarray(x), np.asarray(y)\n",
    "    nx, ny = len(x), len(y)\n",
    "    s_px = np.nanstd(x, ddof=1)\n",
    "    s_py = np.nanstd(y, ddof=1)\n",
    "    s_p = np.sqrt(((nx-1)*s_px**2 + (ny-1)*s_py**2) / (nx+ny-2))\n",
    "    return (np.nanmean(x) - np.nanmean(y)) / s_p if s_p > 0 else np.nan\n",
    "\n",
    "def eta_squared_anova(anova_table):\n",
    "    \"\"\"Eta^2 a partir de tabla ANOVA (statsmodels anova_lm).\"\"\"\n",
    "    ss_total = anova_table[\"sum_sq\"].sum()\n",
    "    return (anova_table[\"sum_sq\"] / ss_total).to_dict()\n",
    "\n",
    "def knee_point(y):\n",
    "    \"\"\"\n",
    "    Heurística de 'codo': distancia máxima a la recta que une los extremos.\n",
    "    y: array 1D (valores ya ordenados ascendente).\n",
    "    \"\"\"\n",
    "    y = np.asarray(y)\n",
    "    x = np.arange(len(y))\n",
    "    p1 = np.array([x[0], y[0]])\n",
    "    p2 = np.array([x[-1], y[-1]])\n",
    "    # distancia punto-recta\n",
    "    num = np.abs((p2[1]-p1[1])*x - (p2[0]-p1[0])*y + p2[0]*p1[1] - p2[1]*p1[0])\n",
    "    den = np.sqrt((p2[1]-p1[1])**2 + (p2[0]-p1[0])**2)\n",
    "    d = num / den if den != 0 else np.zeros_like(y, dtype=float)\n",
    "    idx = int(np.argmax(d))\n",
    "    return idx, y[idx]\n",
    "\n",
    "#Funciones base creadas con prompt CHATGPT\n"
   ]
  },
  {
   "cell_type": "markdown",
   "id": "8046b09a",
   "metadata": {},
   "source": [
    "defino las funciones cohen_d, eta_squared_anova y knee_point, con el objetivo de tener valores estaditicos para poder comparar datos y el codo para encontrar eps, con cohen veo la magnitud de la diferencia de medidas, con eta la varianza explicada. Las funciones se crean con prompt CHAT_GPT"
   ]
  },
  {
   "cell_type": "markdown",
   "metadata": {},
   "source": [
    "## Desarrollo\n"
   ]
  },
  {
   "cell_type": "markdown",
   "metadata": {},
   "source": [
    "### 1.Carga de datos \n",
    "\n",
    "En la carpeta `data` se encuentra el archivo `datos_clientes.csv` cargue estos datos en su *cuaderno*. "
   ]
  },
  {
   "cell_type": "code",
   "execution_count": 2,
   "metadata": {
    "noteable": {
     "cell_type": "code"
    }
   },
   "outputs": [
    {
     "name": "stdout",
     "output_type": "stream",
     "text": [
      "Filas, Columnas: (200, 5)\n"
     ]
    },
    {
     "data": {
      "application/vnd.microsoft.datawrangler.viewer.v0+json": {
       "columns": [
        {
         "name": "index",
         "rawType": "int64",
         "type": "integer"
        },
        {
         "name": "Id_Cliente",
         "rawType": "int64",
         "type": "integer"
        },
        {
         "name": "Genero",
         "rawType": "object",
         "type": "string"
        },
        {
         "name": "Edad",
         "rawType": "int64",
         "type": "integer"
        },
        {
         "name": "Ingreso",
         "rawType": "float64",
         "type": "float"
        },
        {
         "name": "Puntaje_Gasto",
         "rawType": "int64",
         "type": "integer"
        }
       ],
       "ref": "254b33ab-a0aa-4ee5-a575-62d1d811e066",
       "rows": [
        [
         "0",
         "1",
         "Mujer",
         "41",
         "98115.05",
         "39"
        ],
        [
         "1",
         "2",
         "Mujer",
         "20",
         "35458.14",
         "75"
        ],
        [
         "2",
         "3",
         "Mujer",
         "68",
         "59872.08",
         "55"
        ],
        [
         "3",
         "4",
         "Hombre",
         "63",
         "48508.93",
         "51"
        ],
        [
         "4",
         "5",
         "Mujer",
         "31",
         "44431.11",
         "54"
        ]
       ],
       "shape": {
        "columns": 5,
        "rows": 5
       }
      },
      "text/html": [
       "<div>\n",
       "<style scoped>\n",
       "    .dataframe tbody tr th:only-of-type {\n",
       "        vertical-align: middle;\n",
       "    }\n",
       "\n",
       "    .dataframe tbody tr th {\n",
       "        vertical-align: top;\n",
       "    }\n",
       "\n",
       "    .dataframe thead th {\n",
       "        text-align: right;\n",
       "    }\n",
       "</style>\n",
       "<table border=\"1\" class=\"dataframe\">\n",
       "  <thead>\n",
       "    <tr style=\"text-align: right;\">\n",
       "      <th></th>\n",
       "      <th>Id_Cliente</th>\n",
       "      <th>Genero</th>\n",
       "      <th>Edad</th>\n",
       "      <th>Ingreso</th>\n",
       "      <th>Puntaje_Gasto</th>\n",
       "    </tr>\n",
       "  </thead>\n",
       "  <tbody>\n",
       "    <tr>\n",
       "      <th>0</th>\n",
       "      <td>1</td>\n",
       "      <td>Mujer</td>\n",
       "      <td>41</td>\n",
       "      <td>98115.05</td>\n",
       "      <td>39</td>\n",
       "    </tr>\n",
       "    <tr>\n",
       "      <th>1</th>\n",
       "      <td>2</td>\n",
       "      <td>Mujer</td>\n",
       "      <td>20</td>\n",
       "      <td>35458.14</td>\n",
       "      <td>75</td>\n",
       "    </tr>\n",
       "    <tr>\n",
       "      <th>2</th>\n",
       "      <td>3</td>\n",
       "      <td>Mujer</td>\n",
       "      <td>68</td>\n",
       "      <td>59872.08</td>\n",
       "      <td>55</td>\n",
       "    </tr>\n",
       "    <tr>\n",
       "      <th>3</th>\n",
       "      <td>4</td>\n",
       "      <td>Hombre</td>\n",
       "      <td>63</td>\n",
       "      <td>48508.93</td>\n",
       "      <td>51</td>\n",
       "    </tr>\n",
       "    <tr>\n",
       "      <th>4</th>\n",
       "      <td>5</td>\n",
       "      <td>Mujer</td>\n",
       "      <td>31</td>\n",
       "      <td>44431.11</td>\n",
       "      <td>54</td>\n",
       "    </tr>\n",
       "  </tbody>\n",
       "</table>\n",
       "</div>"
      ],
      "text/plain": [
       "   Id_Cliente  Genero  Edad   Ingreso  Puntaje_Gasto\n",
       "0           1   Mujer    41  98115.05             39\n",
       "1           2   Mujer    20  35458.14             75\n",
       "2           3   Mujer    68  59872.08             55\n",
       "3           4  Hombre    63  48508.93             51\n",
       "4           5   Mujer    31  44431.11             54"
      ]
     },
     "execution_count": 2,
     "metadata": {},
     "output_type": "execute_result"
    }
   ],
   "source": [
    "# Utilice este espacio para escribir el código.\n",
    "\n",
    "df = pd.read_csv(\"data/datos_clientes.csv\")\n",
    "print(\"Filas, Columnas:\", df.shape)\n",
    "df.head()\n"
   ]
  },
  {
   "cell_type": "markdown",
   "metadata": {},
   "source": [
    "(Utilice este espacio para describir su procedimiento)\n",
    "\n",
    "Se carga los datos suminstrados en el taller, se puede ver que en el df se cargaron los registros y corresponden a los del enunciado, 200 observaciones y 5 caracteristicas. "
   ]
  },
  {
   "cell_type": "markdown",
   "metadata": {},
   "source": [
    "### 2. Análisis preliminar. \n",
    "\n",
    "Antes de comenzar el análisis de segmentación utilice estadísticas descriptivas para explorar la variables que se encuentran en los datos. En su análisis mencione si hay patrones que surgen del examen descriptivo de los datos; entre ellos si hay diferencias en los ingresos y los puntajes de gastos para mujeres y hombres, por grupos etarios (18-24, 25-34, 35-44, 45-54, 55-64, y 65+), y por grupos etarios y género. Discuta además si estas diferencias son estadísticamente significativas."
   ]
  },
  {
   "cell_type": "code",
   "execution_count": 5,
   "metadata": {
    "ExecuteTime": {
     "end_time": "2023-07-16T16:19:08.201705+00:00",
     "start_time": "2023-07-16T16:19:07.615452+00:00"
    },
    "noteable": {
     "cell_type": "code",
     "output_collection_id": "2d7c325e-81c4-49e5-85aa-89d213c37c09"
    }
   },
   "outputs": [
    {
     "name": "stdout",
     "output_type": "stream",
     "text": [
      "Valores de Género: ['Mujer', 'Hombre']\n",
      "Categories (2, object): ['Hombre', 'Mujer']\n",
      "Valores de GrupoEtario: ['35-44', '18-24', '65+', '55-64', '25-34', '45-54']\n",
      "Categories (6, object): ['18-24' < '25-34' < '35-44' < '45-54' < '55-64' < '65+']\n",
      "\n",
      "=== Descriptivas globales ===\n"
     ]
    },
    {
     "name": "stderr",
     "output_type": "stream",
     "text": [
      "C:\\Users\\madelgado\\AppData\\Local\\Temp\\ipykernel_16088\\1369075807.py:17: FutureWarning: The default of observed=False is deprecated and will be changed to True in a future version of pandas. Pass observed=False to retain current behavior or observed=True to adopt the future default and silence this warning.\n",
      "  desc_genero = df.groupby(\"Genero\")[[\"Ingreso\",\"Puntaje_Gasto\"]].agg([\"count\",\"mean\",\"std\",\"min\",\"median\",\"max\"])\n",
      "C:\\Users\\madelgado\\AppData\\Local\\Temp\\ipykernel_16088\\1369075807.py:18: FutureWarning: The default of observed=False is deprecated and will be changed to True in a future version of pandas. Pass observed=False to retain current behavior or observed=True to adopt the future default and silence this warning.\n",
      "  desc_edad = df.groupby(\"GrupoEtario\")[[\"Ingreso\",\"Puntaje_Gasto\"]].agg([\"count\",\"mean\",\"std\",\"min\",\"median\",\"max\"])\n"
     ]
    },
    {
     "data": {
      "application/vnd.microsoft.datawrangler.viewer.v0+json": {
       "columns": [
        {
         "name": "index",
         "rawType": "object",
         "type": "string"
        },
        {
         "name": "count",
         "rawType": "float64",
         "type": "float"
        },
        {
         "name": "mean",
         "rawType": "float64",
         "type": "float"
        },
        {
         "name": "std",
         "rawType": "float64",
         "type": "float"
        },
        {
         "name": "min",
         "rawType": "float64",
         "type": "float"
        },
        {
         "name": "25%",
         "rawType": "float64",
         "type": "float"
        },
        {
         "name": "50%",
         "rawType": "float64",
         "type": "float"
        },
        {
         "name": "75%",
         "rawType": "float64",
         "type": "float"
        },
        {
         "name": "max",
         "rawType": "float64",
         "type": "float"
        }
       ],
       "ref": "d026d98b-d027-44b2-aab2-59cee90196b8",
       "rows": [
        [
         "Ingreso",
         "200.0",
         "60624.4466",
         "26262.903415767825",
         "13458.02",
         "41512.7875",
         "60777.96",
         "77143.865",
         "138584.52"
        ],
        [
         "Puntaje_Gasto",
         "200.0",
         "50.2",
         "25.823521668370166",
         "1.0",
         "34.75",
         "50.0",
         "73.0",
         "99.0"
        ]
       ],
       "shape": {
        "columns": 8,
        "rows": 2
       }
      },
      "text/html": [
       "<div>\n",
       "<style scoped>\n",
       "    .dataframe tbody tr th:only-of-type {\n",
       "        vertical-align: middle;\n",
       "    }\n",
       "\n",
       "    .dataframe tbody tr th {\n",
       "        vertical-align: top;\n",
       "    }\n",
       "\n",
       "    .dataframe thead th {\n",
       "        text-align: right;\n",
       "    }\n",
       "</style>\n",
       "<table border=\"1\" class=\"dataframe\">\n",
       "  <thead>\n",
       "    <tr style=\"text-align: right;\">\n",
       "      <th></th>\n",
       "      <th>count</th>\n",
       "      <th>mean</th>\n",
       "      <th>std</th>\n",
       "      <th>min</th>\n",
       "      <th>25%</th>\n",
       "      <th>50%</th>\n",
       "      <th>75%</th>\n",
       "      <th>max</th>\n",
       "    </tr>\n",
       "  </thead>\n",
       "  <tbody>\n",
       "    <tr>\n",
       "      <th>Ingreso</th>\n",
       "      <td>200.0</td>\n",
       "      <td>60624.4466</td>\n",
       "      <td>26262.903416</td>\n",
       "      <td>13458.02</td>\n",
       "      <td>41512.7875</td>\n",
       "      <td>60777.96</td>\n",
       "      <td>77143.865</td>\n",
       "      <td>138584.52</td>\n",
       "    </tr>\n",
       "    <tr>\n",
       "      <th>Puntaje_Gasto</th>\n",
       "      <td>200.0</td>\n",
       "      <td>50.2000</td>\n",
       "      <td>25.823522</td>\n",
       "      <td>1.00</td>\n",
       "      <td>34.7500</td>\n",
       "      <td>50.00</td>\n",
       "      <td>73.000</td>\n",
       "      <td>99.00</td>\n",
       "    </tr>\n",
       "  </tbody>\n",
       "</table>\n",
       "</div>"
      ],
      "text/plain": [
       "               count        mean           std       min         25%  \\\n",
       "Ingreso        200.0  60624.4466  26262.903416  13458.02  41512.7875   \n",
       "Puntaje_Gasto  200.0     50.2000     25.823522      1.00     34.7500   \n",
       "\n",
       "                    50%        75%        max  \n",
       "Ingreso        60777.96  77143.865  138584.52  \n",
       "Puntaje_Gasto     50.00     73.000      99.00  "
      ]
     },
     "metadata": {},
     "output_type": "display_data"
    },
    {
     "name": "stdout",
     "output_type": "stream",
     "text": [
      "\n",
      "=== Descriptivas por Género ===\n"
     ]
    },
    {
     "data": {
      "application/vnd.microsoft.datawrangler.viewer.v0+json": {
       "columns": [
        {
         "name": "Genero",
         "rawType": "category",
         "type": "unknown"
        },
        {
         "name": "('Ingreso', 'count')",
         "rawType": "int64",
         "type": "integer"
        },
        {
         "name": "('Ingreso', 'mean')",
         "rawType": "float64",
         "type": "float"
        },
        {
         "name": "('Ingreso', 'std')",
         "rawType": "float64",
         "type": "float"
        },
        {
         "name": "('Ingreso', 'min')",
         "rawType": "float64",
         "type": "float"
        },
        {
         "name": "('Ingreso', 'median')",
         "rawType": "float64",
         "type": "float"
        },
        {
         "name": "('Ingreso', 'max')",
         "rawType": "float64",
         "type": "float"
        },
        {
         "name": "('Puntaje_Gasto', 'count')",
         "rawType": "int64",
         "type": "integer"
        },
        {
         "name": "('Puntaje_Gasto', 'mean')",
         "rawType": "float64",
         "type": "float"
        },
        {
         "name": "('Puntaje_Gasto', 'std')",
         "rawType": "float64",
         "type": "float"
        },
        {
         "name": "('Puntaje_Gasto', 'min')",
         "rawType": "int64",
         "type": "integer"
        },
        {
         "name": "('Puntaje_Gasto', 'median')",
         "rawType": "float64",
         "type": "float"
        },
        {
         "name": "('Puntaje_Gasto', 'max')",
         "rawType": "int64",
         "type": "integer"
        }
       ],
       "ref": "19738604-2235-4880-b770-04dee445021d",
       "rows": [
        [
         "Hombre",
         "88",
         "62126.660454545454",
         "26765.4929530711",
         "13458.02",
         "61706.565",
         "138584.52",
         "88",
         "48.51136363636363",
         "27.8967696058336",
         "1",
         "50.0",
         "97"
        ],
        [
         "Mujer",
         "112",
         "59444.135714285716",
         "25920.459216177966",
         "15766.84",
         "59355.305",
         "126685.78",
         "112",
         "51.526785714285715",
         "24.11494987747865",
         "5",
         "50.0",
         "99"
        ]
       ],
       "shape": {
        "columns": 12,
        "rows": 2
       }
      },
      "text/html": [
       "<div>\n",
       "<style scoped>\n",
       "    .dataframe tbody tr th:only-of-type {\n",
       "        vertical-align: middle;\n",
       "    }\n",
       "\n",
       "    .dataframe tbody tr th {\n",
       "        vertical-align: top;\n",
       "    }\n",
       "\n",
       "    .dataframe thead tr th {\n",
       "        text-align: left;\n",
       "    }\n",
       "\n",
       "    .dataframe thead tr:last-of-type th {\n",
       "        text-align: right;\n",
       "    }\n",
       "</style>\n",
       "<table border=\"1\" class=\"dataframe\">\n",
       "  <thead>\n",
       "    <tr>\n",
       "      <th></th>\n",
       "      <th colspan=\"6\" halign=\"left\">Ingreso</th>\n",
       "      <th colspan=\"6\" halign=\"left\">Puntaje_Gasto</th>\n",
       "    </tr>\n",
       "    <tr>\n",
       "      <th></th>\n",
       "      <th>count</th>\n",
       "      <th>mean</th>\n",
       "      <th>std</th>\n",
       "      <th>min</th>\n",
       "      <th>median</th>\n",
       "      <th>max</th>\n",
       "      <th>count</th>\n",
       "      <th>mean</th>\n",
       "      <th>std</th>\n",
       "      <th>min</th>\n",
       "      <th>median</th>\n",
       "      <th>max</th>\n",
       "    </tr>\n",
       "    <tr>\n",
       "      <th>Genero</th>\n",
       "      <th></th>\n",
       "      <th></th>\n",
       "      <th></th>\n",
       "      <th></th>\n",
       "      <th></th>\n",
       "      <th></th>\n",
       "      <th></th>\n",
       "      <th></th>\n",
       "      <th></th>\n",
       "      <th></th>\n",
       "      <th></th>\n",
       "      <th></th>\n",
       "    </tr>\n",
       "  </thead>\n",
       "  <tbody>\n",
       "    <tr>\n",
       "      <th>Hombre</th>\n",
       "      <td>88</td>\n",
       "      <td>62126.660455</td>\n",
       "      <td>26765.492953</td>\n",
       "      <td>13458.02</td>\n",
       "      <td>61706.565</td>\n",
       "      <td>138584.52</td>\n",
       "      <td>88</td>\n",
       "      <td>48.511364</td>\n",
       "      <td>27.89677</td>\n",
       "      <td>1</td>\n",
       "      <td>50.0</td>\n",
       "      <td>97</td>\n",
       "    </tr>\n",
       "    <tr>\n",
       "      <th>Mujer</th>\n",
       "      <td>112</td>\n",
       "      <td>59444.135714</td>\n",
       "      <td>25920.459216</td>\n",
       "      <td>15766.84</td>\n",
       "      <td>59355.305</td>\n",
       "      <td>126685.78</td>\n",
       "      <td>112</td>\n",
       "      <td>51.526786</td>\n",
       "      <td>24.11495</td>\n",
       "      <td>5</td>\n",
       "      <td>50.0</td>\n",
       "      <td>99</td>\n",
       "    </tr>\n",
       "  </tbody>\n",
       "</table>\n",
       "</div>"
      ],
      "text/plain": [
       "       Ingreso                                                              \\\n",
       "         count          mean           std       min     median        max   \n",
       "Genero                                                                       \n",
       "Hombre      88  62126.660455  26765.492953  13458.02  61706.565  138584.52   \n",
       "Mujer      112  59444.135714  25920.459216  15766.84  59355.305  126685.78   \n",
       "\n",
       "       Puntaje_Gasto                                      \n",
       "               count       mean       std min median max  \n",
       "Genero                                                    \n",
       "Hombre            88  48.511364  27.89677   1   50.0  97  \n",
       "Mujer            112  51.526786  24.11495   5   50.0  99  "
      ]
     },
     "metadata": {},
     "output_type": "display_data"
    },
    {
     "name": "stdout",
     "output_type": "stream",
     "text": [
      "\n",
      "=== Descriptivas por Grupo Etario ===\n"
     ]
    },
    {
     "data": {
      "application/vnd.microsoft.datawrangler.viewer.v0+json": {
       "columns": [
        {
         "name": "GrupoEtario",
         "rawType": "category",
         "type": "unknown"
        },
        {
         "name": "('Ingreso', 'count')",
         "rawType": "int64",
         "type": "integer"
        },
        {
         "name": "('Ingreso', 'mean')",
         "rawType": "float64",
         "type": "float"
        },
        {
         "name": "('Ingreso', 'std')",
         "rawType": "float64",
         "type": "float"
        },
        {
         "name": "('Ingreso', 'min')",
         "rawType": "float64",
         "type": "float"
        },
        {
         "name": "('Ingreso', 'median')",
         "rawType": "float64",
         "type": "float"
        },
        {
         "name": "('Ingreso', 'max')",
         "rawType": "float64",
         "type": "float"
        },
        {
         "name": "('Puntaje_Gasto', 'count')",
         "rawType": "int64",
         "type": "integer"
        },
        {
         "name": "('Puntaje_Gasto', 'mean')",
         "rawType": "float64",
         "type": "float"
        },
        {
         "name": "('Puntaje_Gasto', 'std')",
         "rawType": "float64",
         "type": "float"
        },
        {
         "name": "('Puntaje_Gasto', 'min')",
         "rawType": "int64",
         "type": "integer"
        },
        {
         "name": "('Puntaje_Gasto', 'median')",
         "rawType": "float64",
         "type": "float"
        },
        {
         "name": "('Puntaje_Gasto', 'max')",
         "rawType": "int64",
         "type": "integer"
        }
       ],
       "ref": "526fdd55-f422-4d35-b99d-cbcb7837cd05",
       "rows": [
        [
         "18-24",
         "35",
         "44454.79542857143",
         "20378.20837310653",
         "13458.02",
         "46455.34",
         "80360.65",
         "35",
         "56.25714285714286",
         "24.659257725986784",
         "5",
         "55.0",
         "94"
        ],
        [
         "25-34",
         "54",
         "71157.32814814815",
         "27885.788157446732",
         "19003.52",
         "75824.91",
         "138584.52",
         "54",
         "63.166666666666664",
         "24.28350632106663",
         "1",
         "70.0",
         "97"
        ],
        [
         "35-44",
         "42",
         "66957.0969047619",
         "27722.049259386316",
         "18797.16",
         "71638.86",
         "119534.68",
         "42",
         "49.42857142857143",
         "30.700077744513347",
         "1",
         "41.0",
         "99"
        ],
        [
         "45-54",
         "39",
         "58786.49102564102",
         "24276.2681143209",
         "24402.32",
         "55041.39",
         "126685.78",
         "39",
         "36.23076923076923",
         "16.261775552797257",
         "4",
         "42.0",
         "59"
        ],
        [
         "55-64",
         "16",
         "56357.093125",
         "22351.82823990817",
         "18434.74",
         "54718.18",
         "94049.49",
         "16",
         "32.3125",
         "21.752298729099873",
         "3",
         "39.0",
         "60"
        ],
        [
         "65+",
         "14",
         "51420.78928571429",
         "12686.43708272037",
         "18437.21",
         "51546.645",
         "64156.37",
         "14",
         "46.714285714285715",
         "11.431593007158657",
         "14",
         "49.0",
         "59"
        ]
       ],
       "shape": {
        "columns": 12,
        "rows": 6
       }
      },
      "text/html": [
       "<div>\n",
       "<style scoped>\n",
       "    .dataframe tbody tr th:only-of-type {\n",
       "        vertical-align: middle;\n",
       "    }\n",
       "\n",
       "    .dataframe tbody tr th {\n",
       "        vertical-align: top;\n",
       "    }\n",
       "\n",
       "    .dataframe thead tr th {\n",
       "        text-align: left;\n",
       "    }\n",
       "\n",
       "    .dataframe thead tr:last-of-type th {\n",
       "        text-align: right;\n",
       "    }\n",
       "</style>\n",
       "<table border=\"1\" class=\"dataframe\">\n",
       "  <thead>\n",
       "    <tr>\n",
       "      <th></th>\n",
       "      <th colspan=\"6\" halign=\"left\">Ingreso</th>\n",
       "      <th colspan=\"6\" halign=\"left\">Puntaje_Gasto</th>\n",
       "    </tr>\n",
       "    <tr>\n",
       "      <th></th>\n",
       "      <th>count</th>\n",
       "      <th>mean</th>\n",
       "      <th>std</th>\n",
       "      <th>min</th>\n",
       "      <th>median</th>\n",
       "      <th>max</th>\n",
       "      <th>count</th>\n",
       "      <th>mean</th>\n",
       "      <th>std</th>\n",
       "      <th>min</th>\n",
       "      <th>median</th>\n",
       "      <th>max</th>\n",
       "    </tr>\n",
       "    <tr>\n",
       "      <th>GrupoEtario</th>\n",
       "      <th></th>\n",
       "      <th></th>\n",
       "      <th></th>\n",
       "      <th></th>\n",
       "      <th></th>\n",
       "      <th></th>\n",
       "      <th></th>\n",
       "      <th></th>\n",
       "      <th></th>\n",
       "      <th></th>\n",
       "      <th></th>\n",
       "      <th></th>\n",
       "    </tr>\n",
       "  </thead>\n",
       "  <tbody>\n",
       "    <tr>\n",
       "      <th>18-24</th>\n",
       "      <td>35</td>\n",
       "      <td>44454.795429</td>\n",
       "      <td>20378.208373</td>\n",
       "      <td>13458.02</td>\n",
       "      <td>46455.340</td>\n",
       "      <td>80360.65</td>\n",
       "      <td>35</td>\n",
       "      <td>56.257143</td>\n",
       "      <td>24.659258</td>\n",
       "      <td>5</td>\n",
       "      <td>55.0</td>\n",
       "      <td>94</td>\n",
       "    </tr>\n",
       "    <tr>\n",
       "      <th>25-34</th>\n",
       "      <td>54</td>\n",
       "      <td>71157.328148</td>\n",
       "      <td>27885.788157</td>\n",
       "      <td>19003.52</td>\n",
       "      <td>75824.910</td>\n",
       "      <td>138584.52</td>\n",
       "      <td>54</td>\n",
       "      <td>63.166667</td>\n",
       "      <td>24.283506</td>\n",
       "      <td>1</td>\n",
       "      <td>70.0</td>\n",
       "      <td>97</td>\n",
       "    </tr>\n",
       "    <tr>\n",
       "      <th>35-44</th>\n",
       "      <td>42</td>\n",
       "      <td>66957.096905</td>\n",
       "      <td>27722.049259</td>\n",
       "      <td>18797.16</td>\n",
       "      <td>71638.860</td>\n",
       "      <td>119534.68</td>\n",
       "      <td>42</td>\n",
       "      <td>49.428571</td>\n",
       "      <td>30.700078</td>\n",
       "      <td>1</td>\n",
       "      <td>41.0</td>\n",
       "      <td>99</td>\n",
       "    </tr>\n",
       "    <tr>\n",
       "      <th>45-54</th>\n",
       "      <td>39</td>\n",
       "      <td>58786.491026</td>\n",
       "      <td>24276.268114</td>\n",
       "      <td>24402.32</td>\n",
       "      <td>55041.390</td>\n",
       "      <td>126685.78</td>\n",
       "      <td>39</td>\n",
       "      <td>36.230769</td>\n",
       "      <td>16.261776</td>\n",
       "      <td>4</td>\n",
       "      <td>42.0</td>\n",
       "      <td>59</td>\n",
       "    </tr>\n",
       "    <tr>\n",
       "      <th>55-64</th>\n",
       "      <td>16</td>\n",
       "      <td>56357.093125</td>\n",
       "      <td>22351.828240</td>\n",
       "      <td>18434.74</td>\n",
       "      <td>54718.180</td>\n",
       "      <td>94049.49</td>\n",
       "      <td>16</td>\n",
       "      <td>32.312500</td>\n",
       "      <td>21.752299</td>\n",
       "      <td>3</td>\n",
       "      <td>39.0</td>\n",
       "      <td>60</td>\n",
       "    </tr>\n",
       "    <tr>\n",
       "      <th>65+</th>\n",
       "      <td>14</td>\n",
       "      <td>51420.789286</td>\n",
       "      <td>12686.437083</td>\n",
       "      <td>18437.21</td>\n",
       "      <td>51546.645</td>\n",
       "      <td>64156.37</td>\n",
       "      <td>14</td>\n",
       "      <td>46.714286</td>\n",
       "      <td>11.431593</td>\n",
       "      <td>14</td>\n",
       "      <td>49.0</td>\n",
       "      <td>59</td>\n",
       "    </tr>\n",
       "  </tbody>\n",
       "</table>\n",
       "</div>"
      ],
      "text/plain": [
       "            Ingreso                                                   \\\n",
       "              count          mean           std       min     median   \n",
       "GrupoEtario                                                            \n",
       "18-24            35  44454.795429  20378.208373  13458.02  46455.340   \n",
       "25-34            54  71157.328148  27885.788157  19003.52  75824.910   \n",
       "35-44            42  66957.096905  27722.049259  18797.16  71638.860   \n",
       "45-54            39  58786.491026  24276.268114  24402.32  55041.390   \n",
       "55-64            16  56357.093125  22351.828240  18434.74  54718.180   \n",
       "65+              14  51420.789286  12686.437083  18437.21  51546.645   \n",
       "\n",
       "                       Puntaje_Gasto                                       \n",
       "                   max         count       mean        std min median max  \n",
       "GrupoEtario                                                                \n",
       "18-24         80360.65            35  56.257143  24.659258   5   55.0  94  \n",
       "25-34        138584.52            54  63.166667  24.283506   1   70.0  97  \n",
       "35-44        119534.68            42  49.428571  30.700078   1   41.0  99  \n",
       "45-54        126685.78            39  36.230769  16.261776   4   42.0  59  \n",
       "55-64         94049.49            16  32.312500  21.752299   3   39.0  60  \n",
       "65+           64156.37            14  46.714286  11.431593  14   49.0  59  "
      ]
     },
     "metadata": {},
     "output_type": "display_data"
    },
    {
     "name": "stdout",
     "output_type": "stream",
     "text": [
      "\n",
      "[Ingreso ~ Género] t=0.713, p=0.4765, Cohen d=0.102\n",
      "=> No se evidencia diferencia significativa en ingresos por género.\n",
      "\n",
      "[Puntaje_Gasto ~ Género] t=-0.805, p=0.4220, Cohen d=-0.117\n",
      "=> No se evidencia diferencia significativa en puntajes de gasto por género.\n",
      "\n",
      "[Ingreso ~ GrupoEtario] ANOVA: F=6.020, p=0.0000 | Kruskal: H=28.621, p=0.0000\n",
      "=> Existen diferencias SIGNIFICATIVAS entre grupos etarios.\n",
      "\n",
      "[Puntaje_Gasto ~ GrupoEtario] ANOVA: F=8.258, p=0.0000 | Kruskal: H=35.336, p=0.0000\n",
      "=> Existen diferencias SIGNIFICATIVAS entre grupos etarios.\n",
      "\n",
      "=== ANOVA 2 vías: Puntaje_Gasto ~ Genero * GrupoEtario ===\n"
     ]
    },
    {
     "name": "stderr",
     "output_type": "stream",
     "text": [
      "C:\\Users\\madelgado\\AppData\\Local\\Temp\\ipykernel_16088\\1369075807.py:56: FutureWarning: The default of observed=False is deprecated and will be changed to True in a future version of pandas. Pass observed=False to retain current behavior or observed=True to adopt the future default and silence this warning.\n",
      "  grupos = [g[col].dropna().values for _, g in df.groupby(\"GrupoEtario\")]\n"
     ]
    },
    {
     "data": {
      "application/vnd.microsoft.datawrangler.viewer.v0+json": {
       "columns": [
        {
         "name": "index",
         "rawType": "object",
         "type": "string"
        },
        {
         "name": "sum_sq",
         "rawType": "float64",
         "type": "float"
        },
        {
         "name": "df",
         "rawType": "float64",
         "type": "float"
        },
        {
         "name": "F",
         "rawType": "float64",
         "type": "float"
        },
        {
         "name": "PR(>F)",
         "rawType": "float64",
         "type": "float"
        }
       ],
       "ref": "d72854ee-c3ac-42cf-bb0a-491a175731b5",
       "rows": [
        [
         "C(Genero)",
         "345.5415406881979",
         "1.0",
         "0.5994101799904152",
         "0.439775701509062"
        ],
        [
         "C(GrupoEtario)",
         "23185.76067155732",
         "5.0",
         "8.044058002214925",
         "6.775896836393707e-07"
        ],
        [
         "C(Genero):C(GrupoEtario)",
         "693.9274199783227",
         "5.0",
         "0.240750885627858",
         "0.9439669543768239"
        ],
        [
         "Residual",
         "108376.22018768512",
         "188.0",
         null,
         null
        ]
       ],
       "shape": {
        "columns": 4,
        "rows": 4
       }
      },
      "text/html": [
       "<div>\n",
       "<style scoped>\n",
       "    .dataframe tbody tr th:only-of-type {\n",
       "        vertical-align: middle;\n",
       "    }\n",
       "\n",
       "    .dataframe tbody tr th {\n",
       "        vertical-align: top;\n",
       "    }\n",
       "\n",
       "    .dataframe thead th {\n",
       "        text-align: right;\n",
       "    }\n",
       "</style>\n",
       "<table border=\"1\" class=\"dataframe\">\n",
       "  <thead>\n",
       "    <tr style=\"text-align: right;\">\n",
       "      <th></th>\n",
       "      <th>sum_sq</th>\n",
       "      <th>df</th>\n",
       "      <th>F</th>\n",
       "      <th>PR(&gt;F)</th>\n",
       "    </tr>\n",
       "  </thead>\n",
       "  <tbody>\n",
       "    <tr>\n",
       "      <th>C(Genero)</th>\n",
       "      <td>345.541541</td>\n",
       "      <td>1.0</td>\n",
       "      <td>0.599410</td>\n",
       "      <td>4.397757e-01</td>\n",
       "    </tr>\n",
       "    <tr>\n",
       "      <th>C(GrupoEtario)</th>\n",
       "      <td>23185.760672</td>\n",
       "      <td>5.0</td>\n",
       "      <td>8.044058</td>\n",
       "      <td>6.775897e-07</td>\n",
       "    </tr>\n",
       "    <tr>\n",
       "      <th>C(Genero):C(GrupoEtario)</th>\n",
       "      <td>693.927420</td>\n",
       "      <td>5.0</td>\n",
       "      <td>0.240751</td>\n",
       "      <td>9.439670e-01</td>\n",
       "    </tr>\n",
       "    <tr>\n",
       "      <th>Residual</th>\n",
       "      <td>108376.220188</td>\n",
       "      <td>188.0</td>\n",
       "      <td>NaN</td>\n",
       "      <td>NaN</td>\n",
       "    </tr>\n",
       "  </tbody>\n",
       "</table>\n",
       "</div>"
      ],
      "text/plain": [
       "                                 sum_sq     df         F        PR(>F)\n",
       "C(Genero)                    345.541541    1.0  0.599410  4.397757e-01\n",
       "C(GrupoEtario)             23185.760672    5.0  8.044058  6.775897e-07\n",
       "C(Genero):C(GrupoEtario)     693.927420    5.0  0.240751  9.439670e-01\n",
       "Residual                  108376.220188  188.0       NaN           NaN"
      ]
     },
     "metadata": {},
     "output_type": "display_data"
    },
    {
     "name": "stdout",
     "output_type": "stream",
     "text": [
      "\n",
      "Eta^2 por término (aprox): {'C(Genero)': 0.0026058654800342755, 'C(GrupoEtario)': 0.17485299522023914, 'C(Genero):C(GrupoEtario)': 0.005233181242895699, 'Residual': 0.817307958056831}\n"
     ]
    }
   ],
   "source": [
    "# Utilice este espacio para escribir el código.\n",
    "\n",
    "# Tipos:\n",
    "df[\"Genero\"] = df[\"Genero\"].astype(\"category\")\n",
    "\n",
    "# Crear grupos etarios \n",
    "bins = [18, 25, 35, 45, 55, 65, np.inf]\n",
    "labels = [\"18-24\",\"25-34\",\"35-44\",\"45-54\",\"55-64\",\"65+\"]\n",
    "df[\"GrupoEtario\"] = pd.cut(df[\"Edad\"], bins=bins, labels=labels, right=False)  # 18<=edad<25 etc.\n",
    "df[\"GrupoEtario\"] = df[\"GrupoEtario\"].astype(\"category\")\n",
    "\n",
    "print(\"Valores de Género:\", df[\"Genero\"].unique())\n",
    "print(\"Valores de GrupoEtario:\", df[\"GrupoEtario\"].unique())\n",
    "\n",
    "# --- 2.1) Tabla de estadísticas descriptivas ---\n",
    "desc_global = df[[\"Ingreso\",\"Puntaje_Gasto\"]].describe().T\n",
    "desc_genero = df.groupby(\"Genero\")[[\"Ingreso\",\"Puntaje_Gasto\"]].agg([\"count\",\"mean\",\"std\",\"min\",\"median\",\"max\"])\n",
    "desc_edad = df.groupby(\"GrupoEtario\")[[\"Ingreso\",\"Puntaje_Gasto\"]].agg([\"count\",\"mean\",\"std\",\"min\",\"median\",\"max\"])\n",
    "\n",
    "print(\"\\n=== Descriptivas globales ===\")\n",
    "display(desc_global)\n",
    "print(\"\\n=== Descriptivas por Género ===\")\n",
    "display(desc_genero)\n",
    "print(\"\\n=== Descriptivas por Grupo Etario ===\")\n",
    "display(desc_edad)\n",
    "\n",
    "# --- 2.2) Pruebas de significancia ---\n",
    "\n",
    "# 2.2.a) ¿Diferencias en INGRESOS por Género? (t-test Welch)\n",
    "gen_cats = [c for c in df[\"Genero\"].cat.categories if c in df[\"Genero\"].unique()]\n",
    "if len(gen_cats) == 2:\n",
    "    g0, g1 = gen_cats\n",
    "    x = df.loc[df[\"Genero\"]==g0, \"Ingreso\"].dropna()\n",
    "    y = df.loc[df[\"Genero\"]==g1, \"Ingreso\"].dropna()\n",
    "    t_ing, p_ing = stats.ttest_ind(x, y, equal_var=False)\n",
    "    d_ing = cohen_d(x, y)\n",
    "    print(f\"\\n[Ingreso ~ Género] t={t_ing:.3f}, p={p_ing:.4f}, Cohen d={d_ing:.3f}\")\n",
    "    print(\"=> Diferencia SIGNIFICATIVA en ingresos entre géneros.\" if p_ing<0.05 else \"=> No se evidencia diferencia significativa en ingresos por género.\")\n",
    "else:\n",
    "    print(\"\\n[Ingreso ~ Género] No hay exactamente dos categorías de género para t-test.\")\n",
    "\n",
    "# 2.2.b) ¿Diferencias en PUNTAJES DE GASTO para mujeres y hombres? (t-test Welch)\n",
    "if len(gen_cats) == 2:\n",
    "    g0, g1 = gen_cats\n",
    "    x = df.loc[df[\"Genero\"]==g0, \"Puntaje_Gasto\"].dropna()\n",
    "    y = df.loc[df[\"Genero\"]==g1, \"Puntaje_Gasto\"].dropna()\n",
    "    t_sp, p_sp = stats.ttest_ind(x, y, equal_var=False)\n",
    "    d_sp = cohen_d(x, y)\n",
    "    print(f\"\\n[Puntaje_Gasto ~ Género] t={t_sp:.3f}, p={p_sp:.4f}, Cohen d={d_sp:.3f}\")\n",
    "    print(\"=> Diferencia SIGNIFICATIVA en puntajes de gasto entre géneros.\" if p_sp<0.05 else \"=> No se evidencia diferencia significativa en puntajes de gasto por género.\")\n",
    "else:\n",
    "    print(\"\\n[Puntaje_Gasto ~ Género] No hay exactamente dos categorías de género para t-test.\")\n",
    "\n",
    "# 2.2.c) ¿Diferencias por GRUPOS ETARIOS? (ANOVA y contraste robusto Kruskal)\n",
    "def anova_oneway(col):\n",
    "    grupos = [g[col].dropna().values for _, g in df.groupby(\"GrupoEtario\")]\n",
    "    grupos = [g for g in grupos if len(g)>1]\n",
    "    if len(grupos) >= 2:\n",
    "        F, p = stats.f_oneway(*grupos)\n",
    "        K, pK = stats.kruskal(*grupos)\n",
    "        print(f\"\\n[{col} ~ GrupoEtario] ANOVA: F={F:.3f}, p={p:.4f} | Kruskal: H={K:.3f}, p={pK:.4f}\")\n",
    "        if p<0.05 or pK<0.05:\n",
    "            print(\"=> Existen diferencias SIGNIFICATIVAS entre grupos etarios.\")\n",
    "        else:\n",
    "            print(\"=> No se evidencian diferencias significativas entre grupos etarios.\")\n",
    "    else:\n",
    "        print(f\"\\n[{col} ~ GrupoEtario] No hay suficientes grupos con datos.\")\n",
    "\n",
    "anova_oneway(\"Ingreso\")\n",
    "anova_oneway(\"Puntaje_Gasto\")\n",
    "\n",
    "# 2.2.d) Interacción GrupoEtario x Género (ANOVA de dos vías) sobre Puntaje_Gasto\n",
    "model = smf.ols('Puntaje_Gasto ~ C(Genero) * C(GrupoEtario)', data=df.dropna(subset=[\"Puntaje_Gasto\",\"Genero\",\"GrupoEtario\"]))\n",
    "res = model.fit()\n",
    "anova2 = anova_lm(res, typ=2)\n",
    "print(\"\\n=== ANOVA 2 vías: Puntaje_Gasto ~ Genero * GrupoEtario ===\")\n",
    "display(anova2)\n",
    "print(\"\\nEta^2 por término (aprox):\", eta_squared_anova(anova2))\n",
    "\n",
    "\n"
   ]
  },
  {
   "cell_type": "markdown",
   "metadata": {},
   "source": [
    "(Utilice este espacio para describir su procedimiento)\n",
    "\n",
    "De la segmentación por hombres y mujeres, pude validar que hay 88 observaciones para hombres y 112 para mujeres. Inicialmente, hice las descriptivas globales, por género y por grupo etario. Luego, usé cálculos estadísticos para poder evaluar significancias y relaciones. De los resultados se obtiene que las diferencias por género no son significativas, ni en ingreso ni en gasto (valores de t=0.713, p=0.4765, d≈0.10 para ingreso y t=−0.805, p=0.4220, d≈−0.12 para gasto). Mientras que por edad sí hay diferencias significativas tanto en ingreso como en gasto, con más gastos en 18-24 y 25-34 y mayores ingresos en 25-34 y 35-44. Por último, la interacción género×edad no es significativa en gasto, y el η² indica que la edad explica ~17.5% de la variación, mientras que género y la interacción aportan muy poco (<1%). En conclusión, una segmentación por edad puede ser de ayuda para estrategias de marketing."
   ]
  },
  {
   "cell_type": "markdown",
   "metadata": {},
   "source": [
    "### 3. Clustering Jerárquico\n",
    "\n",
    "#### 3.1. Dendrogramas\n",
    "\n",
    "Agrupe a los clientes utilizando sólo dos variables: su ingreso y el puntaje de gastos. Para ello retenga estas dos variables, estandarízelas, construya y grafique un dendograma. Para la construcción del dendrograma utilice el enlace 'ward' y la distancia euclidiana. Explique la importancia de estandarizar los datos."
   ]
  },
  {
   "cell_type": "code",
   "execution_count": 14,
   "metadata": {
    "ExecuteTime": {
     "end_time": "2023-07-16T16:29:24.649171+00:00",
     "start_time": "2023-07-16T16:29:21.788267+00:00"
    },
    "noteable": {
     "cell_type": "code",
     "output_collection_id": "3ac79bd2-4963-40c4-a4e8-784bcb39bea0"
    }
   },
   "outputs": [
    {
     "data": {
      "image/png": "[encoded data removed]",
      "text/plain": [
       "<Figure size 800x500 with 1 Axes>"
      ]
     },
     "metadata": {},
     "output_type": "display_data"
    },
    {
     "data": {
      "image/png": "[encoded data removed]",
      "text/plain": [
       "<Figure size 800x500 with 1 Axes>"
      ]
     },
     "metadata": {},
     "output_type": "display_data"
    }
   ],
   "source": [
    "# Utilice este espacio para escribir el código.\n",
    "\n",
    "X = df[[\"Ingreso\",\"Puntaje_Gasto\"]].copy()\n",
    "\n",
    "#estandarizar\n",
    "scaler = StandardScaler()\n",
    "Xz = scaler.fit_transform(X)  \n",
    "\n",
    "# Dendrograma con enlace 'ward' (distancia euclídea)\n",
    "Z = linkage(Xz, method=\"ward\", metric=\"euclidean\")\n",
    "plt.figure()\n",
    "dendrogram(Z, truncate_mode=None)\n",
    "plt.axhline(y=6, linestyle=\"--\")  \n",
    "plt.title(\"Dendrograma (Ward, Euclídea). Línea de corte en distancia=6\")\n",
    "plt.xlabel(\"Observaciones\")\n",
    "plt.ylabel(\"Distancia\")\n",
    "plt.show()\n",
    "\n",
    "Otros = linkage(X, method=\"ward\", metric=\"euclidean\")\n",
    "plt.figure()\n",
    "dendrogram(Otros, truncate_mode=None)\n",
    "plt.axhline(y=6, linestyle=\"--\")  \n",
    "plt.title(\"Dendrograma (Ward, Euclídea). sin escalar\")\n",
    "plt.xlabel(\"Observaciones\")\n",
    "plt.ylabel(\"Distancia\")\n",
    "plt.show()\n",
    "\n",
    "\n"
   ]
  },
  {
   "cell_type": "markdown",
   "metadata": {},
   "source": [
    "(Utilice este espacio para describir su procedimiento)\n",
    "\n",
    "Filtré el dataframe dejando solo las variables de interés y escalé las variables. Dado que se utilizará como método de agrupamiento de clúster Ward, es muy importante estandarizar, porque Ward usa distancia euclidiana y minimiza la varianza intraclúster, por lo que es muy sensible a la escala. Como los ingresos están en los miles y el puntaje solo llega hasta 100, esto afectaría el resultado y predominaría la variable ingreso. Al estandarizar, ambas variables aportan por igual a la distancia. De hecho, grafiqué el caso sin escalar y el agrupamiento que se puede ver en el dendograma es completamente diferente."
   ]
  },
  {
   "cell_type": "markdown",
   "metadata": {},
   "source": [
    "#### 3.2. Número de clusters\n",
    "\n",
    "Retenga el número de clusters que se obtengan luego de fijar la distancia en 6."
   ]
  },
  {
   "cell_type": "code",
   "execution_count": 19,
   "metadata": {
    "ExecuteTime": {
     "end_time": "2023-07-16T16:30:33.403710+00:00",
     "start_time": "2023-07-16T16:30:33.241077+00:00"
    },
    "noteable": {
     "cell_type": "code",
     "output_collection_id": "254eb5c1-b7d7-48c0-a13c-f5073e06273b"
    }
   },
   "outputs": [
    {
     "name": "stdout",
     "output_type": "stream",
     "text": [
      "Número de clusters al corte de distancia=6: 5\n"
     ]
    },
    {
     "data": {
      "text/plain": [
       "array([5, 1, 2, 2, 2, 1, 4, 2, 4, 1, 5, 1, 2, 5, 4, 1, 5, 4, 5, 2, 2, 3,\n",
       "       2, 5, 2, 2, 2, 5, 4, 3, 2, 2, 4, 2, 2, 2, 3, 5, 5, 2, 3, 5, 3, 4,\n",
       "       3, 2, 5, 2, 5, 4, 4, 5, 1, 5, 2, 1, 5, 4, 4, 4, 4, 4, 5, 4, 3, 2,\n",
       "       3, 5, 2, 4, 4, 1, 2, 3, 2, 2, 2, 4, 5, 2, 4, 5, 5, 2, 2, 2, 5, 4,\n",
       "       2, 2, 1, 2, 5, 4, 4, 2, 1, 5, 3, 2, 2, 1, 2, 2, 2, 3, 2, 5, 5, 2,\n",
       "       2, 5, 3, 1, 4, 2, 2, 2, 2, 4, 5, 3, 2, 2, 3, 2, 5, 2, 1, 2, 4, 5,\n",
       "       4, 1, 4, 3, 1, 2, 5, 3, 2, 2, 2, 4, 5, 2, 2, 4, 2, 1, 2, 2, 5, 3,\n",
       "       1, 2, 2, 4, 4, 4, 3, 3, 2, 4, 4, 2, 2, 1, 2, 2, 2, 4, 2, 4, 2, 4,\n",
       "       1, 3, 1, 5, 3, 3, 5, 2, 2, 1, 2, 3, 5, 4, 5, 5, 3, 5, 3, 1, 2, 3,\n",
       "       1, 4], dtype=int32)"
      ]
     },
     "execution_count": 19,
     "metadata": {},
     "output_type": "execute_result"
    }
   ],
   "source": [
    "# Utilice este espacio para escribir el código.\n",
    "\n",
    "# Número de clusters al cortar a distancia=6\n",
    "clusters_cut = fcluster(Z, t=6, criterion='distance')\n",
    "n_clust = len(np.unique(clusters_cut))\n",
    "print(f\"Número de clusters al corte de distancia=6: {n_clust}\")\n",
    "clusters_cut\n"
   ]
  },
  {
   "cell_type": "markdown",
   "metadata": {},
   "source": [
    "(Utilice este espacio para describir su procedimiento)\n",
    "\n",
    "Haciendo uso de la función fcluster, con los parámetros t y criterion, realizo el corte con el criterio de distancia a un valor t, en este caso 6. Esto me entrega el clúster al que queda asignada cada observación. Luego obtengo los valores únicos y determino el número de clústeres, que en este caso es 5."
   ]
  },
  {
   "cell_type": "markdown",
   "metadata": {},
   "source": [
    "#### 3.3. Algoritmo Jerárquico Aglomerativo\n",
    "\n",
    "Utilizando el número de clusters encontrados en el paso anterior, aplique el algoritmo jerárquico aglomerativo, utilizando el enlace 'ward' y la distancia euclidiana. Describa los grupos encontrados, en que grupo o grupos concentraría su estrategia de marketing y por qué?"
   ]
  },
  {
   "cell_type": "code",
   "execution_count": 20,
   "metadata": {
    "ExecuteTime": {
     "end_time": "2023-07-16T16:31:07.364446+00:00",
     "start_time": "2023-07-16T16:31:07.047668+00:00"
    },
    "datalink": {
     "cb4d41c2-7468-4179-b3af-463accbe29a6": {
      "applied_filters": [],
      "dataframe_info": {
       "default_index_used": true,
       "orig_num_cols": 8,
       "orig_num_rows": 5,
       "orig_size_bytes": 525,
       "truncated_num_cols": 8,
       "truncated_num_rows": 5,
       "truncated_size_bytes": 525,
       "truncated_string_columns": []
      },
      "display_id": "cb4d41c2-7468-4179-b3af-463accbe29a6",
      "dx_settings": {
       "ALLOW_NOTEABLE_ATTRS": true,
       "COLUMN_SAMPLING_METHOD": "outer",
       "DB_LOCATION": ":memory:",
       "DEV_MODE": false,
       "DISPLAY_MAX_COLUMNS": 100,
       "DISPLAY_MAX_ROWS": 50000,
       "DISPLAY_MODE": "simple",
       "ENABLE_ASSIGNMENT": true,
       "ENABLE_DATALINK": true,
       "FLATTEN_COLUMN_VALUES": true,
       "FLATTEN_INDEX_VALUES": false,
       "GENERATE_DEX_METADATA": false,
       "HTML_TABLE_SCHEMA": false,
       "LOG_LEVEL": 30,
       "MAX_RENDER_SIZE_BYTES": 104857600,
       "MAX_STRING_LENGTH": 250,
       "NUM_PAST_SAMPLES_TRACKED": 3,
       "RANDOM_STATE": 12648430,
       "RESET_INDEX_VALUES": false,
       "ROW_SAMPLING_METHOD": "random",
       "SAMPLING_FACTOR": 0.1,
       "SAMPLING_METHOD": "random",
       "STRINGIFY_COLUMN_VALUES": true,
       "STRINGIFY_INDEX_VALUES": false
      },
      "sample_history": [],
      "sampling_time": "2023-07-16T16:31:07.204488",
      "user_variable_name": null,
      "variable_name": "unk_dataframe_9913f7676cc043a4a00b184116fd4b2c"
     }
    },
    "noteable": {
     "cell_type": "code",
     "output_collection_id": "a8fca9be-97b0-456e-92df-a88e7598e581"
    }
   },
   "outputs": [
    {
     "name": "stdout",
     "output_type": "stream",
     "text": [
      "\n",
      "=== Resumen clusters (Jerárquico) ===\n"
     ]
    },
    {
     "data": {
      "application/vnd.microsoft.datawrangler.viewer.v0+json": {
       "columns": [
        {
         "name": "cluster_h",
         "rawType": "int64",
         "type": "integer"
        },
        {
         "name": "n",
         "rawType": "int64",
         "type": "integer"
        },
        {
         "name": "ingreso_prom",
         "rawType": "float64",
         "type": "float"
        },
        {
         "name": "gasto_prom",
         "rawType": "float64",
         "type": "float"
        }
       ],
       "ref": "f543e414-2667-41d1-8c93-0b772084dade",
       "rows": [
        [
         "0",
         "38",
         "87055.07447368422",
         "18.63157894736842"
        ],
        [
         "1",
         "26",
         "28274.667307692307",
         "23.307692307692307"
        ],
        [
         "2",
         "39",
         "86537.49641025641",
         "82.12820512820512"
        ],
        [
         "3",
         "23",
         "26230.41956521739",
         "78.56521739130434"
        ],
        [
         "4",
         "74",
         "55451.25851351351",
         "50.21621621621622"
        ]
       ],
       "shape": {
        "columns": 3,
        "rows": 5
       }
      },
      "text/html": [
       "<div>\n",
       "<style scoped>\n",
       "    .dataframe tbody tr th:only-of-type {\n",
       "        vertical-align: middle;\n",
       "    }\n",
       "\n",
       "    .dataframe tbody tr th {\n",
       "        vertical-align: top;\n",
       "    }\n",
       "\n",
       "    .dataframe thead th {\n",
       "        text-align: right;\n",
       "    }\n",
       "</style>\n",
       "<table border=\"1\" class=\"dataframe\">\n",
       "  <thead>\n",
       "    <tr style=\"text-align: right;\">\n",
       "      <th></th>\n",
       "      <th>n</th>\n",
       "      <th>ingreso_prom</th>\n",
       "      <th>gasto_prom</th>\n",
       "    </tr>\n",
       "    <tr>\n",
       "      <th>cluster_h</th>\n",
       "      <th></th>\n",
       "      <th></th>\n",
       "      <th></th>\n",
       "    </tr>\n",
       "  </thead>\n",
       "  <tbody>\n",
       "    <tr>\n",
       "      <th>0</th>\n",
       "      <td>38</td>\n",
       "      <td>87055.074474</td>\n",
       "      <td>18.631579</td>\n",
       "    </tr>\n",
       "    <tr>\n",
       "      <th>1</th>\n",
       "      <td>26</td>\n",
       "      <td>28274.667308</td>\n",
       "      <td>23.307692</td>\n",
       "    </tr>\n",
       "    <tr>\n",
       "      <th>2</th>\n",
       "      <td>39</td>\n",
       "      <td>86537.496410</td>\n",
       "      <td>82.128205</td>\n",
       "    </tr>\n",
       "    <tr>\n",
       "      <th>3</th>\n",
       "      <td>23</td>\n",
       "      <td>26230.419565</td>\n",
       "      <td>78.565217</td>\n",
       "    </tr>\n",
       "    <tr>\n",
       "      <th>4</th>\n",
       "      <td>74</td>\n",
       "      <td>55451.258514</td>\n",
       "      <td>50.216216</td>\n",
       "    </tr>\n",
       "  </tbody>\n",
       "</table>\n",
       "</div>"
      ],
      "text/plain": [
       "            n  ingreso_prom  gasto_prom\n",
       "cluster_h                              \n",
       "0          38  87055.074474   18.631579\n",
       "1          26  28274.667308   23.307692\n",
       "2          39  86537.496410   82.128205\n",
       "3          23  26230.419565   78.565217\n",
       "4          74  55451.258514   50.216216"
      ]
     },
     "metadata": {},
     "output_type": "display_data"
    },
    {
     "name": "stdout",
     "output_type": "stream",
     "text": [
      "\n",
      "=== Composición por Género (Jerárquico) ===\n"
     ]
    },
    {
     "data": {
      "application/vnd.microsoft.datawrangler.viewer.v0+json": {
       "columns": [
        {
         "name": "cluster_h",
         "rawType": "int64",
         "type": "integer"
        },
        {
         "name": "Hombre",
         "rawType": "float64",
         "type": "float"
        },
        {
         "name": "Mujer",
         "rawType": "float64",
         "type": "float"
        }
       ],
       "ref": "5d4e5a31-149d-4517-bf81-07a781ccee24",
       "rows": [
        [
         "0",
         "0.526",
         "0.474"
        ],
        [
         "1",
         "0.385",
         "0.615"
        ],
        [
         "2",
         "0.462",
         "0.538"
        ],
        [
         "3",
         "0.391",
         "0.609"
        ],
        [
         "4",
         "0.419",
         "0.581"
        ]
       ],
       "shape": {
        "columns": 2,
        "rows": 5
       }
      },
      "text/html": [
       "<div>\n",
       "<style scoped>\n",
       "    .dataframe tbody tr th:only-of-type {\n",
       "        vertical-align: middle;\n",
       "    }\n",
       "\n",
       "    .dataframe tbody tr th {\n",
       "        vertical-align: top;\n",
       "    }\n",
       "\n",
       "    .dataframe thead th {\n",
       "        text-align: right;\n",
       "    }\n",
       "</style>\n",
       "<table border=\"1\" class=\"dataframe\">\n",
       "  <thead>\n",
       "    <tr style=\"text-align: right;\">\n",
       "      <th>Genero</th>\n",
       "      <th>Hombre</th>\n",
       "      <th>Mujer</th>\n",
       "    </tr>\n",
       "    <tr>\n",
       "      <th>cluster_h</th>\n",
       "      <th></th>\n",
       "      <th></th>\n",
       "    </tr>\n",
       "  </thead>\n",
       "  <tbody>\n",
       "    <tr>\n",
       "      <th>0</th>\n",
       "      <td>0.526</td>\n",
       "      <td>0.474</td>\n",
       "    </tr>\n",
       "    <tr>\n",
       "      <th>1</th>\n",
       "      <td>0.385</td>\n",
       "      <td>0.615</td>\n",
       "    </tr>\n",
       "    <tr>\n",
       "      <th>2</th>\n",
       "      <td>0.462</td>\n",
       "      <td>0.538</td>\n",
       "    </tr>\n",
       "    <tr>\n",
       "      <th>3</th>\n",
       "      <td>0.391</td>\n",
       "      <td>0.609</td>\n",
       "    </tr>\n",
       "    <tr>\n",
       "      <th>4</th>\n",
       "      <td>0.419</td>\n",
       "      <td>0.581</td>\n",
       "    </tr>\n",
       "  </tbody>\n",
       "</table>\n",
       "</div>"
      ],
      "text/plain": [
       "Genero     Hombre  Mujer\n",
       "cluster_h               \n",
       "0           0.526  0.474\n",
       "1           0.385  0.615\n",
       "2           0.462  0.538\n",
       "3           0.391  0.609\n",
       "4           0.419  0.581"
      ]
     },
     "metadata": {},
     "output_type": "display_data"
    },
    {
     "name": "stdout",
     "output_type": "stream",
     "text": [
      "\n",
      "=== Composición por GrupoEtario (Jerárquico) ===\n"
     ]
    },
    {
     "data": {
      "application/vnd.microsoft.datawrangler.viewer.v0+json": {
       "columns": [
        {
         "name": "cluster_h",
         "rawType": "int64",
         "type": "integer"
        },
        {
         "name": "18-24",
         "rawType": "float64",
         "type": "float"
        },
        {
         "name": "25-34",
         "rawType": "float64",
         "type": "float"
        },
        {
         "name": "35-44",
         "rawType": "float64",
         "type": "float"
        },
        {
         "name": "45-54",
         "rawType": "float64",
         "type": "float"
        },
        {
         "name": "55-64",
         "rawType": "float64",
         "type": "float"
        },
        {
         "name": "65+",
         "rawType": "float64",
         "type": "float"
        }
       ],
       "ref": "86285b7e-013d-4af9-b682-dae615acd02e",
       "rows": [
        [
         "0",
         "0.105",
         "0.211",
         "0.316",
         "0.237",
         "0.132",
         "0.0"
        ],
        [
         "1",
         "0.077",
         "0.115",
         "0.269",
         "0.346",
         "0.115",
         "0.077"
        ],
        [
         "2",
         "0.0",
         "0.667",
         "0.333",
         "0.0",
         "0.0",
         "0.0"
        ],
        [
         "3",
         "0.609",
         "0.261",
         "0.13",
         "0.0",
         "0.0",
         "0.0"
        ],
        [
         "4",
         "0.203",
         "0.149",
         "0.095",
         "0.284",
         "0.108",
         "0.162"
        ]
       ],
       "shape": {
        "columns": 6,
        "rows": 5
       }
      },
      "text/html": [
       "<div>\n",
       "<style scoped>\n",
       "    .dataframe tbody tr th:only-of-type {\n",
       "        vertical-align: middle;\n",
       "    }\n",
       "\n",
       "    .dataframe tbody tr th {\n",
       "        vertical-align: top;\n",
       "    }\n",
       "\n",
       "    .dataframe thead th {\n",
       "        text-align: right;\n",
       "    }\n",
       "</style>\n",
       "<table border=\"1\" class=\"dataframe\">\n",
       "  <thead>\n",
       "    <tr style=\"text-align: right;\">\n",
       "      <th>GrupoEtario</th>\n",
       "      <th>18-24</th>\n",
       "      <th>25-34</th>\n",
       "      <th>35-44</th>\n",
       "      <th>45-54</th>\n",
       "      <th>55-64</th>\n",
       "      <th>65+</th>\n",
       "    </tr>\n",
       "    <tr>\n",
       "      <th>cluster_h</th>\n",
       "      <th></th>\n",
       "      <th></th>\n",
       "      <th></th>\n",
       "      <th></th>\n",
       "      <th></th>\n",
       "      <th></th>\n",
       "    </tr>\n",
       "  </thead>\n",
       "  <tbody>\n",
       "    <tr>\n",
       "      <th>0</th>\n",
       "      <td>0.105</td>\n",
       "      <td>0.211</td>\n",
       "      <td>0.316</td>\n",
       "      <td>0.237</td>\n",
       "      <td>0.132</td>\n",
       "      <td>0.000</td>\n",
       "    </tr>\n",
       "    <tr>\n",
       "      <th>1</th>\n",
       "      <td>0.077</td>\n",
       "      <td>0.115</td>\n",
       "      <td>0.269</td>\n",
       "      <td>0.346</td>\n",
       "      <td>0.115</td>\n",
       "      <td>0.077</td>\n",
       "    </tr>\n",
       "    <tr>\n",
       "      <th>2</th>\n",
       "      <td>0.000</td>\n",
       "      <td>0.667</td>\n",
       "      <td>0.333</td>\n",
       "      <td>0.000</td>\n",
       "      <td>0.000</td>\n",
       "      <td>0.000</td>\n",
       "    </tr>\n",
       "    <tr>\n",
       "      <th>3</th>\n",
       "      <td>0.609</td>\n",
       "      <td>0.261</td>\n",
       "      <td>0.130</td>\n",
       "      <td>0.000</td>\n",
       "      <td>0.000</td>\n",
       "      <td>0.000</td>\n",
       "    </tr>\n",
       "    <tr>\n",
       "      <th>4</th>\n",
       "      <td>0.203</td>\n",
       "      <td>0.149</td>\n",
       "      <td>0.095</td>\n",
       "      <td>0.284</td>\n",
       "      <td>0.108</td>\n",
       "      <td>0.162</td>\n",
       "    </tr>\n",
       "  </tbody>\n",
       "</table>\n",
       "</div>"
      ],
      "text/plain": [
       "GrupoEtario  18-24  25-34  35-44  45-54  55-64    65+\n",
       "cluster_h                                            \n",
       "0            0.105  0.211  0.316  0.237  0.132  0.000\n",
       "1            0.077  0.115  0.269  0.346  0.115  0.077\n",
       "2            0.000  0.667  0.333  0.000  0.000  0.000\n",
       "3            0.609  0.261  0.130  0.000  0.000  0.000\n",
       "4            0.203  0.149  0.095  0.284  0.108  0.162"
      ]
     },
     "metadata": {},
     "output_type": "display_data"
    },
    {
     "data": {
      "image/png": "[encoded data removed]",
      "text/plain": [
       "<Figure size 800x500 with 1 Axes>"
      ]
     },
     "metadata": {},
     "output_type": "display_data"
    }
   ],
   "source": [
    "# Utilice este espacio para escribir el código.\n",
    "\n",
    "# Algoritmo jerárquico aglomerativo con ese número\n",
    "agg = AgglomerativeClustering(n_clusters=n_clust, linkage=\"ward\")  # 'ward' implica euclídea\n",
    "labels_h = agg.fit_predict(Xz)\n",
    "df[\"cluster_h\"] = labels_h\n",
    "\n",
    "# Descripción de clusters\n",
    "desc_h = df.groupby(\"cluster_h\").agg(\n",
    "    n=(\"Id_Cliente\",\"count\"),\n",
    "    ingreso_prom=(\"Ingreso\",\"mean\"),\n",
    "    gasto_prom=(\"Puntaje_Gasto\",\"mean\")\n",
    ").sort_index()\n",
    "print(\"\\n=== Resumen clusters (Jerárquico) ===\")\n",
    "display(desc_h)\n",
    "\n",
    "# Composición por género y grupo etario\n",
    "print(\"\\n=== Composición por Género (Jerárquico) ===\")\n",
    "display(pd.crosstab(df[\"cluster_h\"], df[\"Genero\"], normalize=\"index\").round(3))\n",
    "print(\"\\n=== Composición por GrupoEtario (Jerárquico) ===\")\n",
    "display(pd.crosstab(df[\"cluster_h\"], df[\"GrupoEtario\"], normalize=\"index\").round(3))\n",
    "\n",
    "# Visualización 2D\n",
    "plt.figure()\n",
    "for k in sorted(df[\"cluster_h\"].unique()):\n",
    "    sub = df[df[\"cluster_h\"]==k]\n",
    "    plt.scatter(sub[\"Ingreso\"], sub[\"Puntaje_Gasto\"], label=f\"Cluster {k}\", s=25)\n",
    "plt.xlabel(\"Ingreso\")\n",
    "plt.ylabel(\"Puntaje de Gasto\")\n",
    "plt.title(\"Clusters Jerárquicos en el plano (Ingreso vs Gasto)\")\n",
    "plt.legend()\n",
    "plt.show()\n"
   ]
  },
  {
   "cell_type": "markdown",
   "metadata": {},
   "source": [
    "(Utilice este espacio para describir su procedimiento)\n",
    "\n",
    "Despues de aplicar clustering jerárquico aglomerativo con enlace Ward y distancia euclídea sobre Ingreso y Puntaje_Gasto estandarizados, y cortar el dendrograma a distancia=6, obutuve 5 grupos:\n",
    "\n",
    "* C0 (n=38) alto ingreso–bajo gasto (≈87.1k; 18.6)\n",
    "* C1 (n=26) bajo ingreso–bajo gasto (≈28.3k; 23.3)\n",
    "* C2 (n=39) alto ingreso–alto gasto (≈86.5k; 82)\n",
    "* C3 (n=23) bajo ingreso–alto gasto (≈26.2k; 78.6)\n",
    "* C4 (n=74) medio ingreso–gasto medio (≈55.5k; 50.2)\n",
    "\n",
    "Focalizaría marketing en C2 clientes que tienen altos ingresos y que normalmente  gastan mucho y en menor proporción en los clientes del C3, que pese a que tienen bajos ingresos tienen altos gastos, se podría hacer campañas de bajo costo para incitar las compras."
   ]
  },
  {
   "cell_type": "markdown",
   "metadata": {},
   "source": [
    "### 4. DBSCAN\n",
    "\n",
    "Implemente DBSCAN, al igual que el punto anterior sólo dos variables: su ingreso y el puntaje de gastos. Al implementar  justifique su elección de `min_samples` y `eps`. ¿Cuántos grupos o clusters encuentra? ¿Cuáles son su características? ¿Cambiaría su estrategia de marketing respecto al punto anterior? Justifique su respuesta."
   ]
  },
  {
   "cell_type": "code",
   "execution_count": null,
   "metadata": {},
   "outputs": [
    {
     "data": {
      "image/png": "[encoded data removed]",
      "text/plain": [
       "<Figure size 800x500 with 1 Axes>"
      ]
     },
     "metadata": {},
     "output_type": "display_data"
    },
    {
     "name": "stdout",
     "output_type": "stream",
     "text": [
      "Sugerencia automática de eps (codo): ~ 0.372 (índice 173)\n",
      "\n",
      "DBSCAN => clusters: 4 (ruido: 17 puntos) con eps=0.372, min_samples=4\n",
      "\n",
      "=== Resumen clusters (DBSCAN) ===\n"
     ]
    },
    {
     "data": {
      "application/vnd.microsoft.datawrangler.viewer.v0+json": {
       "columns": [
        {
         "name": "cluster_db",
         "rawType": "int64",
         "type": "integer"
        },
        {
         "name": "n",
         "rawType": "int64",
         "type": "integer"
        },
        {
         "name": "ingreso_prom",
         "rawType": "float64",
         "type": "float"
        },
        {
         "name": "gasto_prom",
         "rawType": "float64",
         "type": "float"
        }
       ],
       "ref": "38879e57-160b-4ba7-af9d-5c7b24383f8e",
       "rows": [
        [
         "0",
         "114",
         "48511.12973684211",
         "52.03508771929825"
        ],
        [
         "1",
         "33",
         "80899.97515151516",
         "83.0"
        ],
        [
         "2",
         "27",
         "83900.61",
         "14.444444444444445"
        ],
        [
         "3",
         "9",
         "21971.123333333333",
         "7.777777777777778"
        ]
       ],
       "shape": {
        "columns": 3,
        "rows": 4
       }
      },
      "text/html": [
       "<div>\n",
       "<style scoped>\n",
       "    .dataframe tbody tr th:only-of-type {\n",
       "        vertical-align: middle;\n",
       "    }\n",
       "\n",
       "    .dataframe tbody tr th {\n",
       "        vertical-align: top;\n",
       "    }\n",
       "\n",
       "    .dataframe thead th {\n",
       "        text-align: right;\n",
       "    }\n",
       "</style>\n",
       "<table border=\"1\" class=\"dataframe\">\n",
       "  <thead>\n",
       "    <tr style=\"text-align: right;\">\n",
       "      <th></th>\n",
       "      <th>n</th>\n",
       "      <th>ingreso_prom</th>\n",
       "      <th>gasto_prom</th>\n",
       "    </tr>\n",
       "    <tr>\n",
       "      <th>cluster_db</th>\n",
       "      <th></th>\n",
       "      <th></th>\n",
       "      <th></th>\n",
       "    </tr>\n",
       "  </thead>\n",
       "  <tbody>\n",
       "    <tr>\n",
       "      <th>0</th>\n",
       "      <td>114</td>\n",
       "      <td>48511.129737</td>\n",
       "      <td>52.035088</td>\n",
       "    </tr>\n",
       "    <tr>\n",
       "      <th>1</th>\n",
       "      <td>33</td>\n",
       "      <td>80899.975152</td>\n",
       "      <td>83.000000</td>\n",
       "    </tr>\n",
       "    <tr>\n",
       "      <th>2</th>\n",
       "      <td>27</td>\n",
       "      <td>83900.610000</td>\n",
       "      <td>14.444444</td>\n",
       "    </tr>\n",
       "    <tr>\n",
       "      <th>3</th>\n",
       "      <td>9</td>\n",
       "      <td>21971.123333</td>\n",
       "      <td>7.777778</td>\n",
       "    </tr>\n",
       "  </tbody>\n",
       "</table>\n",
       "</div>"
      ],
      "text/plain": [
       "              n  ingreso_prom  gasto_prom\n",
       "cluster_db                               \n",
       "0           114  48511.129737   52.035088\n",
       "1            33  80899.975152   83.000000\n",
       "2            27  83900.610000   14.444444\n",
       "3             9  21971.123333    7.777778"
      ]
     },
     "metadata": {},
     "output_type": "display_data"
    },
    {
     "data": {
      "image/png": "[encoded data removed]",
      "text/plain": [
       "<Figure size 800x500 with 1 Axes>"
      ]
     },
     "metadata": {},
     "output_type": "display_data"
    }
   ],
   "source": [
    "# Utilice este espacio para escribir el código.\n",
    "\n",
    "# Escalado (muy importante para DBSCAN)\n",
    "X = df[[\"Ingreso\",\"Puntaje_Gasto\"]].values\n",
    "Xz = StandardScaler().fit_transform(X)\n",
    "\n",
    "# Elección de min_samples y eps:\n",
    "# Regla común: min_samples ~ 2*dim ==> 4. \n",
    "min_samples = 4\n",
    "\n",
    "# Gráfico k-distancias (k = min_samples-1)\n",
    "k = min_samples - 1\n",
    "nbrs = NearestNeighbors(n_neighbors=min_samples).fit(Xz)\n",
    "distances, indices = nbrs.kneighbors(Xz)\n",
    "k_dists = np.sort(distances[:, k])\n",
    "plt.figure()\n",
    "plt.plot(k_dists)\n",
    "plt.ylabel(f\"Distancia al {min_samples}-ésimo vecino\")\n",
    "plt.xlabel(\"Puntos ordenados\")\n",
    "plt.title(\"Curva k-distancias para elegir eps (DBSCAN)\")\n",
    "plt.show()\n",
    "\n",
    "# Heurística automática del 'codo'\n",
    "idx_elbow, eps_sugerido = knee_point(k_dists)\n",
    "print(f\"Sugerencia automática de eps (codo): ~ {eps_sugerido:.3f} (índice {idx_elbow})\")\n",
    "\n",
    "# Ejecuta DBSCAN \n",
    "eps = float(np.round(eps_sugerido, 3))\n",
    "db = DBSCAN(eps=eps, min_samples=min_samples).fit(Xz)\n",
    "df[\"cluster_db\"] = db.labels_\n",
    "\n",
    "n_noise = (df[\"cluster_db\"]==-1).sum()\n",
    "n_clusters_db = len([c for c in np.unique(db.labels_) if c != -1])\n",
    "print(f\"\\nDBSCAN => clusters: {n_clusters_db} (ruido: {n_noise} puntos) con eps={eps}, min_samples={min_samples}\")\n",
    "\n",
    "# Descripción clusters (excluyendo ruido)\n",
    "mask = df[\"cluster_db\"]!=-1\n",
    "desc_db = df[mask].groupby(\"cluster_db\").agg(\n",
    "    n=(\"Id_Cliente\",\"count\"),\n",
    "    ingreso_prom=(\"Ingreso\",\"mean\"),\n",
    "    gasto_prom=(\"Puntaje_Gasto\",\"mean\")\n",
    ").sort_index()\n",
    "print(\"\\n=== Resumen clusters (DBSCAN) ===\")\n",
    "display(desc_db)\n",
    "\n",
    "# Visualización\n",
    "plt.figure()\n",
    "unique_lbls = sorted(df[\"cluster_db\"].unique())\n",
    "for c in unique_lbls:\n",
    "    sub = df[df[\"cluster_db\"]==c]\n",
    "    label = f\"Ruido\" if c==-1 else f\"Cluster {c}\"\n",
    "    plt.scatter(sub[\"Ingreso\"], sub[\"Puntaje_Gasto\"], s=25, label=label)\n",
    "plt.xlabel(\"Ingreso\")\n",
    "plt.ylabel(\"Puntaje de Gasto\")\n",
    "plt.title(\"DBSCAN (Ingreso vs Gasto)\")\n",
    "plt.legend()\n",
    "plt.show()\n",
    "\n",
    "\n"
   ]
  },
  {
   "cell_type": "markdown",
   "metadata": {},
   "source": [
    "(Utilice este espacio para describir su procedimiento)\n",
    "\n",
    "Implementé DBSCAN sobre (Ingreso, Puntaje_Gasto) estandarizados; elegí eps por codo en la curva de k-distancias y probé dos densidades: con min_samples=8 (más conservador que la regla 2×dim=4 2×dim=4) el codo dio eps≈0.55, obteniendo 2 clusters + 11 ruidos: uno mayoritario (≈59.7k; ≈51.9) y un nicho bajo ingreso–bajo gasto (≈22.8k; ≈8.4). Al bajar a min_samples=4 el codo fue eps≈0.372 y emergieron 4 clusters + 17 ruidos, más cercanos al jerárquico. Comparación: ms=8 “aplana” la segmentación (menos grupos, más robusto), mientras ms=4 recupera granularidad útil. En marketing, mantendría el foco en alto ingreso–alto."
   ]
  },
  {
   "cell_type": "markdown",
   "metadata": {},
   "source": [
    "### 5. Incorporando más dimensiones\n",
    "\n",
    "Hasta este momento hemos utilizado solo dos variables para nuestro análisis, sin embargo, la base cuenta con otras variables más: género y edad. Usando las categorías de edad creadas anteriormente incorpore género y grupo etario a su análisis. Genere los grupos utilizando DBSCAN y la distancia de Gower, justificando su elección de `min_samples` y `eps`   ¿Incorporar estas variables, ayuda a la focalización de la estrategia de marketing?"
   ]
  },
  {
   "cell_type": "code",
   "execution_count": 36,
   "metadata": {
    "ExecuteTime": {
     "end_time": "2023-07-16T16:42:28.364508+00:00",
     "start_time": "2023-07-16T16:42:22.935059+00:00"
    },
    "jupyter": {
     "outputs_hidden": false,
     "source_hidden": false
    },
    "noteable": {
     "cell_type": "code",
     "output_collection_id": "2b6bd871-3b9e-4474-a898-ee13670b61c3"
    }
   },
   "outputs": [
    {
     "data": {
      "image/png": "[encoded data removed]",
      "text/plain": [
       "<Figure size 800x500 with 1 Axes>"
      ]
     },
     "metadata": {},
     "output_type": "display_data"
    },
    {
     "name": "stdout",
     "output_type": "stream",
     "text": [
      "Sugerencia eps (Gower): ~ 0.155\n",
      "\n",
      "DBSCAN-Gower => clusters: 8 (ruido: 39) con eps=0.155, min_samples=12\n",
      "\n",
      "=== Resumen clusters (DBSCAN + Gower) ===\n"
     ]
    },
    {
     "data": {
      "application/vnd.microsoft.datawrangler.viewer.v0+json": {
       "columns": [
        {
         "name": "cluster_db_gower",
         "rawType": "int64",
         "type": "integer"
        },
        {
         "name": "n",
         "rawType": "int64",
         "type": "integer"
        },
        {
         "name": "ingreso_prom",
         "rawType": "float64",
         "type": "float"
        },
        {
         "name": "gasto_prom",
         "rawType": "float64",
         "type": "float"
        }
       ],
       "ref": "7804ccd3-486f-4763-8613-32b2ff9953da",
       "rows": [
        [
         "0",
         "22",
         "71073.03727272728",
         "43.86363636363637"
        ],
        [
         "1",
         "18",
         "43869.874444444446",
         "62.94444444444444"
        ],
        [
         "2",
         "32",
         "65815.38",
         "63.65625"
        ],
        [
         "3",
         "19",
         "74110.29947368421",
         "70.89473684210526"
        ],
        [
         "4",
         "16",
         "46748.4825",
         "51.875"
        ],
        [
         "5",
         "14",
         "58029.12714285714",
         "34.357142857142854"
        ],
        [
         "6",
         "25",
         "59210.614799999996",
         "37.28"
        ],
        [
         "7",
         "15",
         "67117.81933333333",
         "47.93333333333333"
        ]
       ],
       "shape": {
        "columns": 3,
        "rows": 8
       }
      },
      "text/html": [
       "<div>\n",
       "<style scoped>\n",
       "    .dataframe tbody tr th:only-of-type {\n",
       "        vertical-align: middle;\n",
       "    }\n",
       "\n",
       "    .dataframe tbody tr th {\n",
       "        vertical-align: top;\n",
       "    }\n",
       "\n",
       "    .dataframe thead th {\n",
       "        text-align: right;\n",
       "    }\n",
       "</style>\n",
       "<table border=\"1\" class=\"dataframe\">\n",
       "  <thead>\n",
       "    <tr style=\"text-align: right;\">\n",
       "      <th></th>\n",
       "      <th>n</th>\n",
       "      <th>ingreso_prom</th>\n",
       "      <th>gasto_prom</th>\n",
       "    </tr>\n",
       "    <tr>\n",
       "      <th>cluster_db_gower</th>\n",
       "      <th></th>\n",
       "      <th></th>\n",
       "      <th></th>\n",
       "    </tr>\n",
       "  </thead>\n",
       "  <tbody>\n",
       "    <tr>\n",
       "      <th>0</th>\n",
       "      <td>22</td>\n",
       "      <td>71073.037273</td>\n",
       "      <td>43.863636</td>\n",
       "    </tr>\n",
       "    <tr>\n",
       "      <th>1</th>\n",
       "      <td>18</td>\n",
       "      <td>43869.874444</td>\n",
       "      <td>62.944444</td>\n",
       "    </tr>\n",
       "    <tr>\n",
       "      <th>2</th>\n",
       "      <td>32</td>\n",
       "      <td>65815.380000</td>\n",
       "      <td>63.656250</td>\n",
       "    </tr>\n",
       "    <tr>\n",
       "      <th>3</th>\n",
       "      <td>19</td>\n",
       "      <td>74110.299474</td>\n",
       "      <td>70.894737</td>\n",
       "    </tr>\n",
       "    <tr>\n",
       "      <th>4</th>\n",
       "      <td>16</td>\n",
       "      <td>46748.482500</td>\n",
       "      <td>51.875000</td>\n",
       "    </tr>\n",
       "    <tr>\n",
       "      <th>5</th>\n",
       "      <td>14</td>\n",
       "      <td>58029.127143</td>\n",
       "      <td>34.357143</td>\n",
       "    </tr>\n",
       "    <tr>\n",
       "      <th>6</th>\n",
       "      <td>25</td>\n",
       "      <td>59210.614800</td>\n",
       "      <td>37.280000</td>\n",
       "    </tr>\n",
       "    <tr>\n",
       "      <th>7</th>\n",
       "      <td>15</td>\n",
       "      <td>67117.819333</td>\n",
       "      <td>47.933333</td>\n",
       "    </tr>\n",
       "  </tbody>\n",
       "</table>\n",
       "</div>"
      ],
      "text/plain": [
       "                   n  ingreso_prom  gasto_prom\n",
       "cluster_db_gower                              \n",
       "0                 22  71073.037273   43.863636\n",
       "1                 18  43869.874444   62.944444\n",
       "2                 32  65815.380000   63.656250\n",
       "3                 19  74110.299474   70.894737\n",
       "4                 16  46748.482500   51.875000\n",
       "5                 14  58029.127143   34.357143\n",
       "6                 25  59210.614800   37.280000\n",
       "7                 15  67117.819333   47.933333"
      ]
     },
     "metadata": {},
     "output_type": "display_data"
    },
    {
     "name": "stdout",
     "output_type": "stream",
     "text": [
      "\n",
      "=== Composición por Género (DBSCAN + Gower) ===\n"
     ]
    },
    {
     "data": {
      "application/vnd.microsoft.datawrangler.viewer.v0+json": {
       "columns": [
        {
         "name": "cluster_db_gower",
         "rawType": "int64",
         "type": "integer"
        },
        {
         "name": "Hombre",
         "rawType": "float64",
         "type": "float"
        },
        {
         "name": "Mujer",
         "rawType": "float64",
         "type": "float"
        }
       ],
       "ref": "1b5d9c5b-5d19-466e-8eaf-970a23ce8283",
       "rows": [
        [
         "-1",
         "0.615",
         "0.385"
        ],
        [
         "0",
         "0.0",
         "1.0"
        ],
        [
         "1",
         "0.0",
         "1.0"
        ],
        [
         "2",
         "0.0",
         "1.0"
        ],
        [
         "3",
         "1.0",
         "0.0"
        ],
        [
         "4",
         "1.0",
         "0.0"
        ],
        [
         "5",
         "1.0",
         "0.0"
        ],
        [
         "6",
         "0.0",
         "1.0"
        ],
        [
         "7",
         "1.0",
         "0.0"
        ]
       ],
       "shape": {
        "columns": 2,
        "rows": 9
       }
      },
      "text/html": [
       "<div>\n",
       "<style scoped>\n",
       "    .dataframe tbody tr th:only-of-type {\n",
       "        vertical-align: middle;\n",
       "    }\n",
       "\n",
       "    .dataframe tbody tr th {\n",
       "        vertical-align: top;\n",
       "    }\n",
       "\n",
       "    .dataframe thead th {\n",
       "        text-align: right;\n",
       "    }\n",
       "</style>\n",
       "<table border=\"1\" class=\"dataframe\">\n",
       "  <thead>\n",
       "    <tr style=\"text-align: right;\">\n",
       "      <th>Genero</th>\n",
       "      <th>Hombre</th>\n",
       "      <th>Mujer</th>\n",
       "    </tr>\n",
       "    <tr>\n",
       "      <th>cluster_db_gower</th>\n",
       "      <th></th>\n",
       "      <th></th>\n",
       "    </tr>\n",
       "  </thead>\n",
       "  <tbody>\n",
       "    <tr>\n",
       "      <th>-1</th>\n",
       "      <td>0.615</td>\n",
       "      <td>0.385</td>\n",
       "    </tr>\n",
       "    <tr>\n",
       "      <th>0</th>\n",
       "      <td>0.000</td>\n",
       "      <td>1.000</td>\n",
       "    </tr>\n",
       "    <tr>\n",
       "      <th>1</th>\n",
       "      <td>0.000</td>\n",
       "      <td>1.000</td>\n",
       "    </tr>\n",
       "    <tr>\n",
       "      <th>2</th>\n",
       "      <td>0.000</td>\n",
       "      <td>1.000</td>\n",
       "    </tr>\n",
       "    <tr>\n",
       "      <th>3</th>\n",
       "      <td>1.000</td>\n",
       "      <td>0.000</td>\n",
       "    </tr>\n",
       "    <tr>\n",
       "      <th>4</th>\n",
       "      <td>1.000</td>\n",
       "      <td>0.000</td>\n",
       "    </tr>\n",
       "    <tr>\n",
       "      <th>5</th>\n",
       "      <td>1.000</td>\n",
       "      <td>0.000</td>\n",
       "    </tr>\n",
       "    <tr>\n",
       "      <th>6</th>\n",
       "      <td>0.000</td>\n",
       "      <td>1.000</td>\n",
       "    </tr>\n",
       "    <tr>\n",
       "      <th>7</th>\n",
       "      <td>1.000</td>\n",
       "      <td>0.000</td>\n",
       "    </tr>\n",
       "  </tbody>\n",
       "</table>\n",
       "</div>"
      ],
      "text/plain": [
       "Genero            Hombre  Mujer\n",
       "cluster_db_gower               \n",
       "-1                 0.615  0.385\n",
       " 0                 0.000  1.000\n",
       " 1                 0.000  1.000\n",
       " 2                 0.000  1.000\n",
       " 3                 1.000  0.000\n",
       " 4                 1.000  0.000\n",
       " 5                 1.000  0.000\n",
       " 6                 0.000  1.000\n",
       " 7                 1.000  0.000"
      ]
     },
     "metadata": {},
     "output_type": "display_data"
    },
    {
     "name": "stdout",
     "output_type": "stream",
     "text": [
      "\n",
      "=== Composición por GrupoEtario (DBSCAN + Gower) ===\n"
     ]
    },
    {
     "data": {
      "application/vnd.microsoft.datawrangler.viewer.v0+json": {
       "columns": [
        {
         "name": "cluster_db_gower",
         "rawType": "int64",
         "type": "integer"
        },
        {
         "name": "18-24",
         "rawType": "float64",
         "type": "float"
        },
        {
         "name": "25-34",
         "rawType": "float64",
         "type": "float"
        },
        {
         "name": "35-44",
         "rawType": "float64",
         "type": "float"
        },
        {
         "name": "45-54",
         "rawType": "float64",
         "type": "float"
        },
        {
         "name": "55-64",
         "rawType": "float64",
         "type": "float"
        },
        {
         "name": "65+",
         "rawType": "float64",
         "type": "float"
        }
       ],
       "ref": "90a511a9-4a4d-422d-95cf-5253bed684b9",
       "rows": [
        [
         "-1",
         "0.026",
         "0.077",
         "0.128",
         "0.0",
         "0.41",
         "0.359"
        ],
        [
         "0",
         "0.0",
         "0.0",
         "1.0",
         "0.0",
         "0.0",
         "0.0"
        ],
        [
         "1",
         "1.0",
         "0.0",
         "0.0",
         "0.0",
         "0.0",
         "0.0"
        ],
        [
         "2",
         "0.0",
         "1.0",
         "0.0",
         "0.0",
         "0.0",
         "0.0"
        ],
        [
         "3",
         "0.0",
         "1.0",
         "0.0",
         "0.0",
         "0.0",
         "0.0"
        ],
        [
         "4",
         "1.0",
         "0.0",
         "0.0",
         "0.0",
         "0.0",
         "0.0"
        ],
        [
         "5",
         "0.0",
         "0.0",
         "0.0",
         "1.0",
         "0.0",
         "0.0"
        ],
        [
         "6",
         "0.0",
         "0.0",
         "0.0",
         "1.0",
         "0.0",
         "0.0"
        ],
        [
         "7",
         "0.0",
         "0.0",
         "1.0",
         "0.0",
         "0.0",
         "0.0"
        ]
       ],
       "shape": {
        "columns": 6,
        "rows": 9
       }
      },
      "text/html": [
       "<div>\n",
       "<style scoped>\n",
       "    .dataframe tbody tr th:only-of-type {\n",
       "        vertical-align: middle;\n",
       "    }\n",
       "\n",
       "    .dataframe tbody tr th {\n",
       "        vertical-align: top;\n",
       "    }\n",
       "\n",
       "    .dataframe thead th {\n",
       "        text-align: right;\n",
       "    }\n",
       "</style>\n",
       "<table border=\"1\" class=\"dataframe\">\n",
       "  <thead>\n",
       "    <tr style=\"text-align: right;\">\n",
       "      <th>GrupoEtario</th>\n",
       "      <th>18-24</th>\n",
       "      <th>25-34</th>\n",
       "      <th>35-44</th>\n",
       "      <th>45-54</th>\n",
       "      <th>55-64</th>\n",
       "      <th>65+</th>\n",
       "    </tr>\n",
       "    <tr>\n",
       "      <th>cluster_db_gower</th>\n",
       "      <th></th>\n",
       "      <th></th>\n",
       "      <th></th>\n",
       "      <th></th>\n",
       "      <th></th>\n",
       "      <th></th>\n",
       "    </tr>\n",
       "  </thead>\n",
       "  <tbody>\n",
       "    <tr>\n",
       "      <th>-1</th>\n",
       "      <td>0.026</td>\n",
       "      <td>0.077</td>\n",
       "      <td>0.128</td>\n",
       "      <td>0.0</td>\n",
       "      <td>0.41</td>\n",
       "      <td>0.359</td>\n",
       "    </tr>\n",
       "    <tr>\n",
       "      <th>0</th>\n",
       "      <td>0.000</td>\n",
       "      <td>0.000</td>\n",
       "      <td>1.000</td>\n",
       "      <td>0.0</td>\n",
       "      <td>0.00</td>\n",
       "      <td>0.000</td>\n",
       "    </tr>\n",
       "    <tr>\n",
       "      <th>1</th>\n",
       "      <td>1.000</td>\n",
       "      <td>0.000</td>\n",
       "      <td>0.000</td>\n",
       "      <td>0.0</td>\n",
       "      <td>0.00</td>\n",
       "      <td>0.000</td>\n",
       "    </tr>\n",
       "    <tr>\n",
       "      <th>2</th>\n",
       "      <td>0.000</td>\n",
       "      <td>1.000</td>\n",
       "      <td>0.000</td>\n",
       "      <td>0.0</td>\n",
       "      <td>0.00</td>\n",
       "      <td>0.000</td>\n",
       "    </tr>\n",
       "    <tr>\n",
       "      <th>3</th>\n",
       "      <td>0.000</td>\n",
       "      <td>1.000</td>\n",
       "      <td>0.000</td>\n",
       "      <td>0.0</td>\n",
       "      <td>0.00</td>\n",
       "      <td>0.000</td>\n",
       "    </tr>\n",
       "    <tr>\n",
       "      <th>4</th>\n",
       "      <td>1.000</td>\n",
       "      <td>0.000</td>\n",
       "      <td>0.000</td>\n",
       "      <td>0.0</td>\n",
       "      <td>0.00</td>\n",
       "      <td>0.000</td>\n",
       "    </tr>\n",
       "    <tr>\n",
       "      <th>5</th>\n",
       "      <td>0.000</td>\n",
       "      <td>0.000</td>\n",
       "      <td>0.000</td>\n",
       "      <td>1.0</td>\n",
       "      <td>0.00</td>\n",
       "      <td>0.000</td>\n",
       "    </tr>\n",
       "    <tr>\n",
       "      <th>6</th>\n",
       "      <td>0.000</td>\n",
       "      <td>0.000</td>\n",
       "      <td>0.000</td>\n",
       "      <td>1.0</td>\n",
       "      <td>0.00</td>\n",
       "      <td>0.000</td>\n",
       "    </tr>\n",
       "    <tr>\n",
       "      <th>7</th>\n",
       "      <td>0.000</td>\n",
       "      <td>0.000</td>\n",
       "      <td>1.000</td>\n",
       "      <td>0.0</td>\n",
       "      <td>0.00</td>\n",
       "      <td>0.000</td>\n",
       "    </tr>\n",
       "  </tbody>\n",
       "</table>\n",
       "</div>"
      ],
      "text/plain": [
       "GrupoEtario       18-24  25-34  35-44  45-54  55-64    65+\n",
       "cluster_db_gower                                          \n",
       "-1                0.026  0.077  0.128    0.0   0.41  0.359\n",
       " 0                0.000  0.000  1.000    0.0   0.00  0.000\n",
       " 1                1.000  0.000  0.000    0.0   0.00  0.000\n",
       " 2                0.000  1.000  0.000    0.0   0.00  0.000\n",
       " 3                0.000  1.000  0.000    0.0   0.00  0.000\n",
       " 4                1.000  0.000  0.000    0.0   0.00  0.000\n",
       " 5                0.000  0.000  0.000    1.0   0.00  0.000\n",
       " 6                0.000  0.000  0.000    1.0   0.00  0.000\n",
       " 7                0.000  0.000  1.000    0.0   0.00  0.000"
      ]
     },
     "metadata": {},
     "output_type": "display_data"
    }
   ],
   "source": [
    "# Utilice este espacio para escribir el código.\n",
    "# --- 5) DBSCAN con distancia de Gower (Ingreso, Puntaje_Gasto, Genero, GrupoEtario) ---\n",
    "\n",
    "# Prepara columnas\n",
    "cols_num = [\"Ingreso\",\"Puntaje_Gasto\"]\n",
    "cols_cat = [\"Genero\",\"GrupoEtario\"]\n",
    "\n",
    "df_g = df.dropna(subset=cols_num + cols_cat).copy()\n",
    "df_g[cols_cat] = df_g[cols_cat].astype(\"category\")\n",
    "\n",
    "# Normalización [0,1] de numéricas para Gower\n",
    "num = df_g[cols_num].astype(float)\n",
    "num_min = num.min()\n",
    "num_max = num.max()\n",
    "num_rng = (num_max - num_min).replace(0, 1.0)\n",
    "num_norm = (num - num_min) / num_rng\n",
    "\n",
    "# Categóricas codificadas como categorías; similitud 1 si igual, 0 si diferente\n",
    "cat = df_g[cols_cat]\n",
    "\n",
    "# Matriz de distancia de Gower (simple, no ponderada)\n",
    "n = len(df_g)\n",
    "gower = np.zeros((n, n), dtype=float)\n",
    "\n",
    "# Precalcular dicts de categorías como códigos\n",
    "cat_codes = {c: cat[c].cat.codes.values for c in cols_cat}\n",
    "\n",
    "for i in range(n):\n",
    "    # Numéricas: distancia Manhattan normalizada\n",
    "    dn = np.abs(num_norm.iloc[i].values - num_norm.values).mean(axis=1)  # promedio sobre columnas num\n",
    "    # Categóricas: distancia = 1 - similitud\n",
    "    dc_terms = []\n",
    "    for c in cols_cat:\n",
    "        eq = (cat_codes[c][i] == cat_codes[c])  # booleano\n",
    "        dc = 1.0 - eq.astype(float)             # 0 si igual, 1 si distinto\n",
    "        dc_terms.append(dc)\n",
    "    dc = np.vstack(dc_terms).mean(axis=0)      # promedio sobre cat\n",
    "    # Gower distance = promedio de (dn, dc) ponderación igual\n",
    "    gower[i, :] = (dn + dc) / 2.0\n",
    "\n",
    "# Elegir min_samples y eps vía curva k-distancias con métrica precomputada\n",
    "min_samples_g = 12\n",
    "k = min_samples_g - 1\n",
    "\n",
    "# Para k-distancia con precomputada, tomamos por fila las distancias ordenadas y extraemos la k-ésima\n",
    "k_dists_g = np.sort(np.partition(gower, k, axis=1)[:, k])\n",
    "k_dists_g_sorted = np.sort(k_dists_g)\n",
    "\n",
    "plt.figure()\n",
    "plt.plot(k_dists_g_sorted)\n",
    "plt.ylabel(f\"k-distancia (Gower) k={min_samples_g}\")\n",
    "plt.xlabel(\"Puntos ordenados\")\n",
    "plt.title(\"Curva k-distancias (Gower) para elegir eps en DBSCAN\")\n",
    "plt.show()\n",
    "\n",
    "idx_elbow_g, eps_g_sugerido = knee_point(k_dists_g_sorted)\n",
    "print(f\"Sugerencia eps (Gower): ~ {eps_g_sugerido:.3f}\")\n",
    "\n",
    "# Ejecutar DBSCAN con métrica precomputada\n",
    "eps_g = float(np.round(eps_g_sugerido, 3))\n",
    "db_g = DBSCAN(eps=eps_g, min_samples=min_samples_g, metric=\"precomputed\").fit(gower)\n",
    "df_g[\"cluster_db_gower\"] = db_g.labels_\n",
    "\n",
    "n_noise_g = (df_g[\"cluster_db_gower\"]==-1).sum()\n",
    "n_clusters_g = len([c for c in np.unique(db_g.labels_) if c != -1])\n",
    "print(f\"\\nDBSCAN-Gower => clusters: {n_clusters_g} (ruido: {n_noise_g}) con eps={eps_g}, min_samples={min_samples_g}\")\n",
    "\n",
    "# Describir clusters incorporando categorías\n",
    "mask = df_g[\"cluster_db_gower\"]!=-1\n",
    "desc_db_g = df_g[mask].groupby(\"cluster_db_gower\").agg(\n",
    "    n=(\"Id_Cliente\",\"count\"),\n",
    "    ingreso_prom=(\"Ingreso\",\"mean\"),\n",
    "    gasto_prom=(\"Puntaje_Gasto\",\"mean\")\n",
    ").sort_index()\n",
    "print(\"\\n=== Resumen clusters (DBSCAN + Gower) ===\")\n",
    "display(desc_db_g)\n",
    "\n",
    "print(\"\\n=== Composición por Género (DBSCAN + Gower) ===\")\n",
    "display(pd.crosstab(df_g[\"cluster_db_gower\"], df_g[\"Genero\"], normalize=\"index\").round(3))\n",
    "print(\"\\n=== Composición por GrupoEtario (DBSCAN + Gower) ===\")\n",
    "display(pd.crosstab(df_g[\"cluster_db_gower\"], df_g[\"GrupoEtario\"], normalize=\"index\").round(3))\n",
    "\n",
    "\n"
   ]
  },
  {
   "cell_type": "markdown",
   "metadata": {},
   "source": [
    "(Utilice este espacio para describir su procedimiento)\n",
    "\n",
    "apliqué DBSCAN con distancia de Gower sobre (Ingreso, Puntaje_Gasto, Género, GrupoEtario): normalicé las numéricas a [0,1][0,1], codifiqué las categóricas por igualdad/diferencia, construí la matriz Gower (ponderación igual num/cat), eleguí min_samples=12 y fijé eps≈0.155 por el codo de la curva de k-distancias; luego corrí DBSCAN con métrica precomputada y describí los grupos. Resultado: 8 clusters y 39 puntos de ruido; los clusters quedaron muy homogéneos por género y edad (cada uno es prácticamente de un solo género y un solo grupo etario). Al incorporar demografía con Gower la segmentación se vuelve demográfica ( edad×género) y permite micro-focalizar: priorizaría C3 y C2 para ofertas de clientes con alto gasto.\n",
    "\n",
    "\n",
    "Nota, el código lo hice con ayuda de Chat GPT, los analisis y conclusiones son de autoría propia.\n"
   ]
  }
 ],
 "metadata": {
  "kernelspec": {
   "display_name": "base",
   "language": "python",
   "name": "python3"
  },
  "language_info": {
   "codemirror_mode": {
    "name": "ipython",
    "version": 3
   },
   "file_extension": ".py",
   "mimetype": "text/x-python",
   "name": "python",
   "nbconvert_exporter": "python",
   "pygments_lexer": "ipython3",
   "version": "3.11.7"
  },
  "noteable": {
   "last_transaction_id": "981dee18-307a-4ad4-a85c-724d5132feaa"
  },
  "selected_hardware_size": "small",
  "toc": {
   "base_numbering": 1,
   "nav_menu": {},
   "number_sections": true,
   "sideBar": true,
   "skip_h1_title": false,
   "title_cell": "Table of Contents",
   "title_sidebar": "Contents",
   "toc_cell": false,
   "toc_position": {},
   "toc_section_display": true,
   "toc_window_display": false
  }
 },
 "nbformat": 4,
 "nbformat_minor": 5
}
